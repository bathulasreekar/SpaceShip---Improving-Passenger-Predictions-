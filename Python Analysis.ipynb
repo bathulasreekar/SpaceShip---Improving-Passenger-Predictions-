{
 "cells": [
  {
   "cell_type": "markdown",
   "id": "4f0a4400",
   "metadata": {
    "papermill": {
     "duration": 0.013196,
     "end_time": "2023-03-10T00:50:22.489540",
     "exception": false,
     "start_time": "2023-03-10T00:50:22.476344",
     "status": "completed"
    },
    "tags": []
   },
   "source": [
    "<h1>OVERVIEW</h1>\n",
    "\n",
    "1.- The way we clean our data influences a lot the prediction for passengers. We developed our model using the average in general but once our score plateaued, we moved on to other methods. In this case, using a fast and simple way of filling in the missing values was quite effective. Compared to using mean or median, we decided to use the 'ffill' method. Ultimately, we jumped 5% in the Kaggle score just by changing the way we handle missing values.<br><br>\n",
    "\n",
    "2.-From all the variables, the use of cryosleep was the one with a higher correlation. This means that those passengers had a higher chance of getting transported compared to those awake. Only 35% of passengers decided to use this method during the trip but those who did avoid getting lost in a different dimension. Additionally, those passengers who didn't ask for room service also had more changed of reaching their destination which is related to cryosleep since a person sleeping cant order food.  For future trip, it would be recommended to passengers to take cryosleep always when it is possible for them<br><br>\n",
    "\n",
    "3.-The most effective machine learning model for the team approach was the use of a Histogram Gradient Boosting Classifier. This is an upgraded version of the basic Gradient Boosting Classifier that was tuned to have the highest accuracy possible. In this particular case, having a smaller gap between the Train and Test sets resulted in worst performance than having a smaller gap. In order to further improve the model, better tuning is required adding more parameters to the hyper tuning. Overall, getting an accuracy score higher than 0.81 will result in better and better placement in the competition.<br><br>  \n"
   ]
  },
  {
   "cell_type": "markdown",
   "id": "0f7efee1",
   "metadata": {
    "papermill": {
     "duration": 0.013076,
     "end_time": "2023-03-10T00:50:22.517205",
     "exception": false,
     "start_time": "2023-03-10T00:50:22.504129",
     "status": "completed"
    },
    "tags": []
   },
   "source": [
    "<h1>Introduction</h1>\n",
    "\n",
    "The goal of the competition is to use machine learning techniques to predict which passengers were transported to an alternate dimension. The outcomes should be based on the demographics, ticket information and from which spot of the spaceship they were teleported. Participants are provided with a dataset containing information about each passenger, such as their age, gender, class, and whether they were transported or not to an alternate dimension. <br><br>\n",
    "Using this dataset, participants create machine learning models that can predict whether a passenger was teleported or not. The competition provides an opportunity for data science beginners to practice their skills and for experienced practitioners to test their models against others in the community. The competition is judged based on the accuracy of the model's predictions on a test dataset, with the top performers being ranked on the leaderboard.\n"
   ]
  },
  {
   "cell_type": "markdown",
   "id": "d10dc31c",
   "metadata": {
    "papermill": {
     "duration": 0.013041,
     "end_time": "2023-03-10T00:50:22.543603",
     "exception": false,
     "start_time": "2023-03-10T00:50:22.530562",
     "status": "completed"
    },
    "tags": []
   },
   "source": [
    "Below is a starter code that comes with Jupyter Notebook."
   ]
  },
  {
   "cell_type": "code",
   "execution_count": 1,
   "id": "f186aaf4",
   "metadata": {
    "_cell_guid": "b1076dfc-b9ad-4769-8c92-a6c4dae69d19",
    "_uuid": "8f2839f25d086af736a60e9eeb907d3b93b6e0e5",
    "execution": {
     "iopub.execute_input": "2023-03-10T00:50:22.573015Z",
     "iopub.status.busy": "2023-03-10T00:50:22.572156Z",
     "iopub.status.idle": "2023-03-10T00:50:22.590529Z",
     "shell.execute_reply": "2023-03-10T00:50:22.588919Z"
    },
    "papermill": {
     "duration": 0.036315,
     "end_time": "2023-03-10T00:50:22.593269",
     "exception": false,
     "start_time": "2023-03-10T00:50:22.556954",
     "status": "completed"
    },
    "tags": []
   },
   "outputs": [],
   "source": [
    "# This Python 3 environment comes with many helpful analytics libraries installed\n",
    "# It is defined by the kaggle/python Docker image: https://github.com/kaggle/docker-python\n",
    "# For example, here's several helpful packages to load\n",
    "\n",
    "import numpy as np # linear algebra\n",
    "import pandas as pd # data processing, CSV file I/O (e.g. pd.read_csv)\n",
    "\n",
    "# Input data files are available in the read-only \"../input/\" directory\n",
    "# For example, running this (by clicking run or pressing Shift+Enter) will list all files under the input directory\n",
    "\n",
    "#import os\n",
    "#for dirname, _, filenames in os.walk('/kaggle/input'):\n",
    " #   for filename in filenames:\n",
    "  #      print(os.path.join(dirname, filename))\n",
    "\n",
    "# You can write up to 20GB to the current directory (/kaggle/working/) that gets preserved as output when you create a version using \"Save & Run All\" \n",
    "# You can also write temporary files to /kaggle/temp/, but they won't be saved outside of the current session\n"
   ]
  },
  {
   "cell_type": "markdown",
   "id": "4310ae6d",
   "metadata": {
    "papermill": {
     "duration": 0.013071,
     "end_time": "2023-03-10T00:50:22.619953",
     "exception": false,
     "start_time": "2023-03-10T00:50:22.606882",
     "status": "completed"
    },
    "tags": []
   },
   "source": [
    "<hr style=\"height:.9px;border:none;color:#333;background-color:#333;\" /><br><br>\n",
    "You will need to import any additional libraries. It's also a good idea to get rid of the cell above once you're used to Jupyter Notebook in Kaggle.<br>"
   ]
  },
  {
   "cell_type": "code",
   "execution_count": 2,
   "id": "9621c1a9",
   "metadata": {
    "execution": {
     "iopub.execute_input": "2023-03-10T00:50:22.648773Z",
     "iopub.status.busy": "2023-03-10T00:50:22.648346Z",
     "iopub.status.idle": "2023-03-10T00:50:23.902651Z",
     "shell.execute_reply": "2023-03-10T00:50:23.901355Z"
    },
    "papermill": {
     "duration": 1.272796,
     "end_time": "2023-03-10T00:50:23.906179",
     "exception": false,
     "start_time": "2023-03-10T00:50:22.633383",
     "status": "completed"
    },
    "tags": []
   },
   "outputs": [],
   "source": [
    "# modeling library\n",
    "import sklearn.linear_model                          # linear modeling in scikit-learn\n",
    "\n",
    "# other model building tools\n",
    "from sklearn.model_selection import train_test_split # train-test split\n",
    "from sklearn.metrics import roc_auc_score            # auc score\n",
    "\n",
    "# import 'Pandas' \n",
    "import pandas as pd \n",
    "\n",
    "# import 'Numpy' \n",
    "import numpy as np\n",
    "\n",
    "# import subpackage of Matplotlib\n",
    "import matplotlib.pyplot as plt\n",
    "from matplotlib.colors import ListedColormap\n",
    "\n",
    "# import 'Seaborn' \n",
    "import seaborn as sns\n",
    "\n",
    "# to suppress warnings \n",
    "from warnings import filterwarnings\n",
    "filterwarnings('ignore')\n",
    "\n",
    "# display all columns of the dataframe\n",
    "pd.options.display.max_columns = None\n",
    "\n",
    "# display all rows of the dataframe\n",
    "pd.options.display.max_rows = None\n",
    " \n",
    "# to display the float values upto 6 decimal places     \n",
    "pd.options.display.float_format = '{:.6f}'.format\n",
    "\n",
    "# import train-test split \n",
    "from sklearn.model_selection import train_test_split\n",
    "\n",
    "# import StandardScaler to perform scaling\n",
    "from sklearn.preprocessing import StandardScaler \n",
    "\n",
    "# import various functions from sklearn\n",
    "from sklearn.metrics import classification_report\n",
    "from sklearn.metrics import confusion_matrix\n",
    "from sklearn.metrics import roc_curve\n",
    "from sklearn.metrics import roc_auc_score\n",
    "from sklearn.ensemble import AdaBoostClassifier\n",
    "from sklearn.ensemble import GradientBoostingClassifier\n",
    "from sklearn.model_selection import GridSearchCV\n",
    "from sklearn.ensemble import StackingClassifier\n",
    "from sklearn.ensemble import RandomForestClassifier\n",
    "from sklearn.neighbors import KNeighborsClassifier\n",
    "from sklearn.model_selection import train_test_split # train/test split\n",
    "import sklearn.linear_model # linear modeling in scikit-learn \n",
    "\n",
    "\n",
    "# importing libraries\n",
    "import pandas            as pd                       # data science essentials\n",
    "import numpy             as np\n",
    "import matplotlib.pyplot as plt                      # data visualization\n",
    "import seaborn           as sns                      # enhanced data viz\n",
    "import statsmodels.formula.api as smf                # statsmodel regressions\n",
    "from sklearn.model_selection import train_test_split # train-test split\n",
    "from sklearn.linear_model import LogisticRegression  # logistic regression\n",
    "from sklearn.metrics import confusion_matrix         # confusion matrix\n",
    "from sklearn.metrics import roc_auc_score            # auc score\n",
    "from sklearn.neighbors import KNeighborsClassifier   # KNN for classification\n",
    "from sklearn.neighbors import KNeighborsRegressor    # KNN for regression\n",
    "from sklearn.preprocessing import StandardScaler     # standard scaler\n",
    "from sklearn.model_selection import GridSearchCV     # hyperparameter tuning\n",
    "from sklearn.metrics import make_scorer              # customizable scorer\n",
    "from sklearn.ensemble import RandomForestClassifier     # random forest\n",
    "from sklearn.ensemble import GradientBoostingClassifier # gbm\n",
    "\n",
    "# CART model packages\n",
    "from sklearn.tree import DecisionTreeClassifier      # classification trees\n",
    "from sklearn.tree import export_graphviz             # exports graphics\n",
    "#from sklearn.externals.six import StringIO           # saves objects in memory\n",
    "from IPython.display import Image                    # displays on frontend\n",
    "#import pydotplus                                     # interprets dot objects\n",
    "\n",
    "# to suppress warnings \n",
    "from warnings import filterwarnings\n",
    "filterwarnings('ignore')\n",
    "from sklearn.model_selection import RandomizedSearchCV"
   ]
  },
  {
   "cell_type": "markdown",
   "id": "fbef260f",
   "metadata": {
    "papermill": {
     "duration": 0.013272,
     "end_time": "2023-03-10T00:50:23.933399",
     "exception": false,
     "start_time": "2023-03-10T00:50:23.920127",
     "status": "completed"
    },
    "tags": []
   },
   "source": [
    "<hr style=\"height:.9px;border:none;color:#333;background-color:#333;\" /><br><br>\n",
    "Make sure to tell Python the path to your training data. If you have no idea what a path is, look to the left and find and hover over <em>Data&nbsp;>&nbsp;Input&nbsp;>&nbsp;spaceship-titanic</em>. A button should appear allowing you to copy the path to your clipboard.<br>"
   ]
  },
  {
   "cell_type": "code",
   "execution_count": 3,
   "id": "dd95f552",
   "metadata": {
    "execution": {
     "iopub.execute_input": "2023-03-10T00:50:23.963117Z",
     "iopub.status.busy": "2023-03-10T00:50:23.962686Z",
     "iopub.status.idle": "2023-03-10T00:50:24.056040Z",
     "shell.execute_reply": "2023-03-10T00:50:24.054741Z"
    },
    "papermill": {
     "duration": 0.111641,
     "end_time": "2023-03-10T00:50:24.058635",
     "exception": false,
     "start_time": "2023-03-10T00:50:23.946994",
     "status": "completed"
    },
    "tags": []
   },
   "outputs": [],
   "source": [
    "# importing the training dataset\n",
    "path             = \"./\" \n",
    "training_dataset = \"train.csv\"\n",
    "\n",
    "\n",
    "#Reading the data from excel\n",
    "\n",
    "# specifying the path and file name\n",
    "file = 'train.csv'\n",
    "\n",
    "# reading the file into Python\n",
    "data_train=pd.read_csv(file)\n"
   ]
  },
  {
   "cell_type": "markdown",
   "id": "7c549577",
   "metadata": {},
   "source": [
    "## Understanding the data\n",
    "\n",
    "Before applying any testing, the exploratory analysis of the datasets showed the structure and values available in the dataset from a visual perspective (NIST, 2021). For the training dataset, we found a total of 8,693 data entries allocated in 14 different columns, 7 of those columns contained categorical information, 6 of them numerical information and 1(transported) contained a true or false value. It was necessary to apply a methodology to account for the missing since in total they constituted 24% of the whole set. Finally, went through the same process in the test dataset resulting in similar findings."
   ]
  },
  {
   "cell_type": "code",
   "execution_count": 4,
   "id": "32abe5da",
   "metadata": {},
   "outputs": [],
   "source": [
    "# data_train.head(2)"
   ]
  },
  {
   "cell_type": "code",
   "execution_count": 5,
   "id": "d99cc600",
   "metadata": {},
   "outputs": [],
   "source": [
    "# # formatting and printing the dimensions of the dataset\n",
    "# print(f\"\"\"\n",
    "# Size of Original Dataset\n",
    "# ------------------------\n",
    "# Observations: {data_train.shape[0]}\n",
    "# Features:     {data_train.shape[1]}\n",
    "# \"\"\")"
   ]
  },
  {
   "cell_type": "code",
   "execution_count": 6,
   "id": "52414bdc",
   "metadata": {},
   "outputs": [
    {
     "name": "stdout",
     "output_type": "stream",
     "text": [
      "<class 'pandas.core.frame.DataFrame'>\n",
      "RangeIndex: 8693 entries, 0 to 8692\n",
      "Data columns (total 14 columns):\n",
      " #   Column        Non-Null Count  Dtype  \n",
      "---  ------        --------------  -----  \n",
      " 0   PassengerId   8693 non-null   object \n",
      " 1   HomePlanet    8492 non-null   object \n",
      " 2   CryoSleep     8476 non-null   object \n",
      " 3   Cabin         8494 non-null   object \n",
      " 4   Destination   8511 non-null   object \n",
      " 5   Age           8514 non-null   float64\n",
      " 6   VIP           8490 non-null   object \n",
      " 7   RoomService   8512 non-null   float64\n",
      " 8   FoodCourt     8510 non-null   float64\n",
      " 9   ShoppingMall  8485 non-null   float64\n",
      " 10  Spa           8510 non-null   float64\n",
      " 11  VRDeck        8505 non-null   float64\n",
      " 12  Name          8493 non-null   object \n",
      " 13  Transported   8693 non-null   bool   \n",
      "dtypes: bool(1), float64(6), object(7)\n",
      "memory usage: 891.5+ KB\n"
     ]
    }
   ],
   "source": [
    "data_train.info()"
   ]
  },
  {
   "cell_type": "markdown",
   "id": "3fba6bf7",
   "metadata": {},
   "source": [
    "## Cleaning the data\n",
    "\n",
    "To account for the missing values, the team took 2 different approaches and compared the results. The first method to try was to delete the rows containing the missing information but we had a significant amount of information. The second methodology was to replace the empty space with Mean, Median, or Mode (Towards Data Science, 2020). Lastly, we replace the missing information with the last correct value using the method  “ffill’ from .fillna() in pandas. Finally, when establishing a baseline, the method with the best result was .fillna()."
   ]
  },
  {
   "cell_type": "code",
   "execution_count": 7,
   "id": "761e03f8",
   "metadata": {},
   "outputs": [
    {
     "name": "stdout",
     "output_type": "stream",
     "text": [
      "PassengerId       0\n",
      "HomePlanet      201\n",
      "CryoSleep       217\n",
      "Cabin           199\n",
      "Destination     182\n",
      "Age             179\n",
      "VIP             203\n",
      "RoomService     181\n",
      "FoodCourt       183\n",
      "ShoppingMall    208\n",
      "Spa             183\n",
      "VRDeck          188\n",
      "Name            200\n",
      "Transported       0\n",
      "dtype: int64\n"
     ]
    }
   ],
   "source": [
    "# Check for missing values in each column\n",
    "missing_values = data_train.isnull().sum()\n",
    "\n",
    "# Print the missing values\n",
    "print(missing_values)\n"
   ]
  },
  {
   "cell_type": "code",
   "execution_count": 8,
   "id": "4c2efa11",
   "metadata": {
    "execution": {
     "iopub.execute_input": "2023-03-10T00:50:24.183210Z",
     "iopub.status.busy": "2023-03-10T00:50:24.182307Z",
     "iopub.status.idle": "2023-03-10T00:50:24.211732Z",
     "shell.execute_reply": "2023-03-10T00:50:24.210298Z"
    },
    "papermill": {
     "duration": 0.047302,
     "end_time": "2023-03-10T00:50:24.214226",
     "exception": false,
     "start_time": "2023-03-10T00:50:24.166924",
     "status": "completed"
    },
    "tags": []
   },
   "outputs": [],
   "source": [
    "#most_common_value = data_train['HomePlanet'].mode()[0]              #Text\n",
    "#data_train['HomePlanet'].fillna(most_common_value, inplace=True)\n",
    "\n",
    "#most_common_value = data_train['CryoSleep'].value_counts().idxmax() #Bool\n",
    "#data_train['CryoSleep'].fillna(most_common_value, inplace=True)\n",
    "\n",
    "#most_common_value = data_train['Deck'].mode()[0]                  \n",
    "#data_train['Deck'].fillna(most_common_value, inplace=True)\n",
    "\n",
    "#most_common_value = data_train['Side'].mode()[0]                  \n",
    "#data_train['Side'].fillna(most_common_value, inplace=True)\n",
    "\n",
    "#most_common_value = data_train['Destination'].mode()[0]\n",
    "#data_train['Destination'].fillna(most_common_value, inplace=True)\n",
    "\n",
    "#data_train['Age'].fillna(data_train['Age'].mean(), inplace=True)\n",
    "\n",
    "#most_common_value = data_train['VIP'].value_counts().idxmax()\n",
    "#data_train['VIP'].fillna(most_common_value, inplace=True)\n",
    "\n",
    "#data_train['RoomService'].fillna(data_train['RoomService'].median(), inplace=True)\n",
    "\n",
    "#data_train['FoodCourt'].fillna(data_train['FoodCourt'].median(), inplace=True)\n",
    "\n",
    "#data_train['ShoppingMall'].fillna(data_train['ShoppingMall'].median(), inplace=True)\n",
    "\n",
    "#data_train['Spa'].fillna(data_train['Spa'].median(), inplace=True)\n",
    "\n",
    "#data_train['VRDeck'].fillna(data_train['VRDeck'].median(), inplace=True)\n",
    "\n",
    "#data_train['Num'].fillna(data_train['VRDeck'].median(), inplace=True)"
   ]
  },
  {
   "cell_type": "code",
   "execution_count": 9,
   "id": "ed4ff9b3",
   "metadata": {},
   "outputs": [],
   "source": [
    "data_train= data_train.fillna(method='ffill')\n",
    "\n",
    "# # titanic_train.head(5)\n",
    "# #titanic_train.shape\n",
    "# data_train.info(verbose = True)"
   ]
  },
  {
   "cell_type": "markdown",
   "id": "1f3aa61f",
   "metadata": {},
   "source": [
    "### Univariate Analysis"
   ]
  },
  {
   "cell_type": "markdown",
   "id": "fedeea00",
   "metadata": {},
   "source": [
    "#### Home Planet"
   ]
  },
  {
   "cell_type": "code",
   "execution_count": 10,
   "id": "25746507",
   "metadata": {},
   "outputs": [],
   "source": [
    "# data_train['HomePlanet'].value_counts()"
   ]
  },
  {
   "cell_type": "markdown",
   "id": "355f93cf",
   "metadata": {},
   "source": [
    "The first feature to analyze is the origin of the passenger. This column is filled with 3 different values. The passengers coming from the earth are the vast majority with 54%. Those coming from Europa and mars are almost equally distributed with 25% and 20% respectively.   We can combine this feature with other values like destination to get additional information about each group of passengers."
   ]
  },
  {
   "cell_type": "code",
   "execution_count": 11,
   "id": "5e619f2f",
   "metadata": {},
   "outputs": [
    {
     "data": {
      "text/plain": [
       "<AxesSubplot:ylabel='HomePlanet'>"
      ]
     },
     "execution_count": 11,
     "metadata": {},
     "output_type": "execute_result"
    },
    {
     "data": {
      "image/png": "[encoded data removed]",
      "text/plain": [
       "<Figure size 640x480 with 1 Axes>"
      ]
     },
     "metadata": {},
     "output_type": "display_data"
    }
   ],
   "source": [
    "data_train.HomePlanet.value_counts().plot(kind='pie',autopct=\"%.1f%%\")"
   ]
  },
  {
   "cell_type": "code",
   "execution_count": 12,
   "id": "11192ed7",
   "metadata": {},
   "outputs": [],
   "source": [
    "# data_train['CryoSleep'].value_counts()"
   ]
  },
  {
   "cell_type": "markdown",
   "id": "8472759c",
   "metadata": {},
   "source": [
    "This feature is filled with boolean values (true or false). If a person is using the cryosleep system during their trip, they will appear as true. Over 60% of the passenger on this trip didn't use cryosleep. \n",
    "\n",
    "It is likely that those passengers with a longer trip will be using this method. A possible new feature can be drawn between the use of this method and the relation it has with the age or group of passengers. "
   ]
  },
  {
   "cell_type": "code",
   "execution_count": 13,
   "id": "db5674e1",
   "metadata": {},
   "outputs": [
    {
     "data": {
      "text/plain": [
       "<AxesSubplot:ylabel='CryoSleep'>"
      ]
     },
     "execution_count": 13,
     "metadata": {},
     "output_type": "execute_result"
    },
    {
     "data": {
      "image/png": "[encoded data removed]",
      "text/plain": [
       "<Figure size 640x480 with 1 Axes>"
      ]
     },
     "metadata": {},
     "output_type": "display_data"
    }
   ],
   "source": [
    "data_train.CryoSleep.value_counts().plot(kind='pie',autopct=\"%.1f%%\")"
   ]
  },
  {
   "cell_type": "code",
   "execution_count": 14,
   "id": "7fe0ebae",
   "metadata": {},
   "outputs": [],
   "source": [
    " #data_train['Destination'].value_counts()"
   ]
  },
  {
   "cell_type": "code",
   "execution_count": 15,
   "id": "f5743b57",
   "metadata": {},
   "outputs": [],
   "source": [
    " #data_train.Destination.value_counts().plot(kind='pie',autopct=\"%.1f%%\")"
   ]
  },
  {
   "cell_type": "code",
   "execution_count": 16,
   "id": "5bd1b553",
   "metadata": {},
   "outputs": [],
   "source": [
    "# data_train['VIP'].value_counts()"
   ]
  },
  {
   "cell_type": "code",
   "execution_count": 17,
   "id": "a14728d2",
   "metadata": {},
   "outputs": [],
   "source": [
    "# data_train.VIP.value_counts().plot(kind='pie',autopct=\"%.1f%%\")"
   ]
  },
  {
   "cell_type": "markdown",
   "id": "a4948d16",
   "metadata": {},
   "source": [
    "#### Age "
   ]
  },
  {
   "cell_type": "code",
   "execution_count": 18,
   "id": "c4e00657",
   "metadata": {},
   "outputs": [],
   "source": [
    "a=data_train['Age']\n",
    "#Descriptive statistics for thhe column Avg_mean_rating\n",
    "count_value=a.count() #Count of values\n",
    "min_value= a.min() #Minimum value\n",
    "max_value=a.max() #Maximum value\n",
    "mean_value=a.mean() #Mean\n",
    "median_value=a.median() #Median\n",
    "mode_value=a.mode() #Mode\n",
    "variance_val=a.var() #Variance\n",
    "std_value=a.std() #standard deviation\n",
    "q25_value=a.quantile(0.25) #IQR\n",
    "q50_value=a.quantile(0.50)\n",
    "q75_value=a.quantile(0.75)\n",
    "data_type=a.dtype #Data type\n",
    "skew_value=a.skew() #Skewness\n",
    "kurt_value=a.kurt() #Kurtosis\n",
    "\n",
    "# #Printing all the required statistical data\n",
    "# print(f'''\n",
    "# AVG_MEAN_RATING\n",
    "# ---------------------\n",
    "# data type:{data_type}\n",
    "# count:    {count_value}\n",
    "\n",
    "# min:      {min_value}\n",
    "# max:      {max_value}\n",
    "\n",
    "# mean:     {mean_value}\n",
    "# median:   {median_value}\n",
    "# mode:     {mode_value[0]}\n",
    "\n",
    "# variance: {variance_val}\n",
    "# Std Devn: {std_value}\n",
    "\n",
    "# Skewness: {skew_value}\n",
    "# Kurtosis: {kurt_value}\n",
    "\n",
    "# IQR 25%:  {q25_value}\n",
    "# IQR 50%:  {q50_value}\n",
    "# IQR 75%:  {q75_value}\n",
    "# ''')"
   ]
  },
  {
   "cell_type": "code",
   "execution_count": 19,
   "id": "df2264ae",
   "metadata": {},
   "outputs": [],
   "source": [
    "# # #Plotting a histogram\n",
    "# plt.figure(figsize=(8,4))\n",
    "# a.hist()\n",
    "# plt.xlabel('Age')\n",
    "# plt.ylabel('Count')\n",
    "\n",
    "# plt.axvline(mean_value,label='MEAN',color='red')\n",
    "# plt.axvline(median_value,label='MEDIAN',color='blue')\n",
    "# plt.axvline(mode_value[0],label='MODE',color='green')\n",
    "# plt.legend()\n",
    "# plt.show()"
   ]
  },
  {
   "cell_type": "code",
   "execution_count": 20,
   "id": "ae8a7adc",
   "metadata": {},
   "outputs": [],
   "source": [
    "# # #Plottting a kde\n",
    "# sns.kdeplot(a)\n",
    "# plt.axvline(mean_value,label='MEAN',color='red')\n",
    "# plt.axvline(median_value,label='MEDIAN',color='blue')\n",
    "# plt.axvline(mode_value[0],label='MODE',color='green')\n",
    "# plt.legend()\n",
    "# plt.show()"
   ]
  },
  {
   "cell_type": "markdown",
   "id": "004abf3b",
   "metadata": {},
   "source": [
    "#### Room Service"
   ]
  },
  {
   "cell_type": "code",
   "execution_count": 21,
   "id": "928b4977",
   "metadata": {},
   "outputs": [],
   "source": [
    "a=data_train['RoomService']\n",
    "#Descriptive statistics for thhe column Avg_mean_rating\n",
    "count_value=a.count() #Count of values\n",
    "min_value= a.min() #Minimum value\n",
    "max_value=a.max() #Maximum value\n",
    "mean_value=a.mean() #Mean\n",
    "median_value=a.median() #Median\n",
    "mode_value=a.mode() #Mode\n",
    "variance_val=a.var() #Variance\n",
    "std_value=a.std() #standard deviation\n",
    "q25_value=a.quantile(0.25) #IQR\n",
    "q50_value=a.quantile(0.50)\n",
    "q75_value=a.quantile(0.75)\n",
    "data_type=a.dtype #Data type\n",
    "skew_value=a.skew() #Skewness\n",
    "kurt_value=a.kurt() #Kurtosis\n",
    "\n",
    "##Printing all the required statistical data\n",
    "# print(f'''\n",
    "# AVG_MEAN_RATING\n",
    "# ---------------------\n",
    "# data type:{data_type}\n",
    "# count:    {count_value}\n",
    "\n",
    "# min:      {min_value}\n",
    "# max:      {max_value}\n",
    "\n",
    "# mean:     {mean_value}\n",
    "# median:   {median_value}\n",
    "# mode:     {mode_value[0]}\n",
    "\n",
    "# variance: {variance_val}\n",
    "# Std Devn: {std_value}\n",
    "\n",
    "# Skewness: {skew_value}\n",
    "# Kurtosis: {kurt_value}\n",
    "\n",
    "# IQR 25%:  {q25_value}\n",
    "# IQR 50%:  {q50_value}\n",
    "# IQR 75%:  {q75_value}\n",
    "# ''')"
   ]
  },
  {
   "cell_type": "code",
   "execution_count": 22,
   "id": "9ee73f5a",
   "metadata": {},
   "outputs": [],
   "source": [
    "# # #Plotting a histogram\n",
    "# plt.figure(figsize=(8,4))\n",
    "# a.hist()\n",
    "# plt.xlabel('Age')\n",
    "# plt.ylabel('Count')\n",
    "\n",
    "# plt.axvline(mean_value,label='MEAN',color='red')\n",
    "# plt.axvline(median_value,label='MEDIAN',color='blue')\n",
    "# plt.axvline(mode_value[0],label='MODE',color='green')\n",
    "# plt.legend()\n",
    "# plt.show()"
   ]
  },
  {
   "cell_type": "code",
   "execution_count": 23,
   "id": "02c7bd26",
   "metadata": {},
   "outputs": [],
   "source": [
    "# # #Plottting a kde\n",
    "# sns.kdeplot(a)\n",
    "# plt.axvline(mean_value,label='MEAN',color='red')\n",
    "# plt.axvline(median_value,label='MEDIAN',color='blue')\n",
    "# plt.axvline(mode_value[0],label='MODE',color='green')\n",
    "# plt.legend()\n",
    "# plt.show()"
   ]
  },
  {
   "cell_type": "markdown",
   "id": "530d94f6",
   "metadata": {},
   "source": [
    "#### FoodCourt"
   ]
  },
  {
   "cell_type": "code",
   "execution_count": 24,
   "id": "bcf5d343",
   "metadata": {},
   "outputs": [],
   "source": [
    "a=data_train['RoomService']\n",
    "#Descriptive statistics for thhe column Avg_mean_rating\n",
    "count_value=a.count() #Count of values\n",
    "min_value= a.min() #Minimum value\n",
    "max_value=a.max() #Maximum value\n",
    "mean_value=a.mean() #Mean\n",
    "median_value=a.median() #Median\n",
    "mode_value=a.mode() #Mode\n",
    "variance_val=a.var() #Variance\n",
    "std_value=a.std() #standard deviation\n",
    "q25_value=a.quantile(0.25) #IQR\n",
    "q50_value=a.quantile(0.50)\n",
    "q75_value=a.quantile(0.75)\n",
    "data_type=a.dtype #Data type\n",
    "skew_value=a.skew() #Skewness\n",
    "kurt_value=a.kurt() #Kurtosis\n",
    "\n",
    "# #Printing all the required statistical data\n",
    "# print(f'''\n",
    "# AVG_MEAN_RATING\n",
    "# ---------------------\n",
    "# data type:{data_type}\n",
    "# count:    {count_value}\n",
    "\n",
    "# min:      {min_value}\n",
    "# max:      {max_value}\n",
    "\n",
    "# mean:     {mean_value}\n",
    "# median:   {median_value}\n",
    "# mode:     {mode_value[0]}\n",
    "\n",
    "# variance: {variance_val}\n",
    "# Std Devn: {std_value}\n",
    "\n",
    "# Skewness: {skew_value}\n",
    "# Kurtosis: {kurt_value}\n",
    "\n",
    "# IQR 25%:  {q25_value}\n",
    "# IQR 50%:  {q50_value}\n",
    "# IQR 75%:  {q75_value}\n",
    "# ''')"
   ]
  },
  {
   "cell_type": "code",
   "execution_count": 25,
   "id": "036a79f5",
   "metadata": {},
   "outputs": [],
   "source": [
    "# #Plotting a histogram\n",
    "# plt.figure(figsize=(8,4))\n",
    "# a.hist()\n",
    "# plt.xlabel('RoomService')\n",
    "# plt.ylabel('Count')\n",
    "\n",
    "# plt.axvline(mean_value,label='MEAN',color='red')\n",
    "# plt.axvline(median_value,label='MEDIAN',color='blue')\n",
    "# plt.axvline(mode_value[0],label='MODE',color='green')\n",
    "# plt.legend()\n",
    "# plt.show()"
   ]
  },
  {
   "cell_type": "code",
   "execution_count": 26,
   "id": "21972739",
   "metadata": {},
   "outputs": [],
   "source": [
    "#Plottting a kde\n",
    "# sns.kdeplot(a)\n",
    "# plt.axvline(mean_value,label='MEAN',color='red')\n",
    "# plt.axvline(median_value,label='MEDIAN',color='blue')\n",
    "# plt.axvline(mode_value[0],label='MODE',color='green')\n",
    "# plt.legend()\n",
    "# plt.show()"
   ]
  },
  {
   "cell_type": "code",
   "execution_count": 27,
   "id": "a06f2e6e",
   "metadata": {},
   "outputs": [],
   "source": [
    "a=data_train['FoodCourt']\n",
    "#Descriptive statistics for thhe column Avg_mean_rating\n",
    "count_value=a.count() #Count of values\n",
    "min_value= a.min() #Minimum value\n",
    "max_value=a.max() #Maximum value\n",
    "mean_value=a.mean() #Mean\n",
    "median_value=a.median() #Median\n",
    "mode_value=a.mode() #Mode\n",
    "variance_val=a.var() #Variance\n",
    "std_value=a.std() #standard deviation\n",
    "q25_value=a.quantile(0.25) #IQR\n",
    "q50_value=a.quantile(0.50)\n",
    "q75_value=a.quantile(0.75)\n",
    "data_type=a.dtype #Data type\n",
    "skew_value=a.skew() #Skewness\n",
    "kurt_value=a.kurt() #Kurtosis\n",
    "\n",
    "# #Printing all the required statistical data\n",
    "# print(f'''\n",
    "# AVG_MEAN_RATING\n",
    "# ---------------------\n",
    "# data type:{data_type}\n",
    "# count:    {count_value}\n",
    "\n",
    "# min:      {min_value}\n",
    "# max:      {max_value}\n",
    "\n",
    "# mean:     {mean_value}\n",
    "# median:   {median_value}\n",
    "# mode:     {mode_value[0]}\n",
    "\n",
    "# variance: {variance_val}\n",
    "# Std Devn: {std_value}\n",
    "\n",
    "# Skewness: {skew_value}\n",
    "# Kurtosis: {kurt_value}\n",
    "\n",
    "# IQR 25%:  {q25_value}\n",
    "# IQR 50%:  {q50_value}\n",
    "# IQR 75%:  {q75_value}\n",
    "# ''')"
   ]
  },
  {
   "cell_type": "code",
   "execution_count": 28,
   "id": "b655c348",
   "metadata": {},
   "outputs": [],
   "source": [
    "#Plotting a histogram\n",
    "# plt.figure(figsize=(8,4))\n",
    "# a.hist()\n",
    "# plt.xlabel('FoodCourt')\n",
    "# plt.ylabel('Count')\n",
    "\n",
    "# plt.axvline(mean_value,label='MEAN',color='red')\n",
    "# plt.axvline(median_value,label='MEDIAN',color='blue')\n",
    "# plt.axvline(mode_value[0],label='MODE',color='green')\n",
    "# plt.legend()\n",
    "# plt.show()"
   ]
  },
  {
   "cell_type": "code",
   "execution_count": 29,
   "id": "f66937a8",
   "metadata": {},
   "outputs": [],
   "source": [
    "# #Plottting a kde\n",
    "# sns.kdeplot(a)\n",
    "# plt.axvline(mean_value,label='MEAN',color='red')\n",
    "# plt.axvline(median_value,label='MEDIAN',color='blue')\n",
    "# plt.axvline(mode_value[0],label='MODE',color='green')\n",
    "# plt.legend()\n",
    "# plt.show()"
   ]
  },
  {
   "cell_type": "markdown",
   "id": "0b800794",
   "metadata": {},
   "source": [
    "#### Shopping Mall"
   ]
  },
  {
   "cell_type": "code",
   "execution_count": 30,
   "id": "5fee603b",
   "metadata": {},
   "outputs": [],
   "source": [
    "a=data_train['ShoppingMall']\n",
    "#Descriptive statistics for thhe column Avg_mean_rating\n",
    "count_value=a.count() #Count of values\n",
    "min_value= a.min() #Minimum value\n",
    "max_value=a.max() #Maximum value\n",
    "mean_value=a.mean() #Mean\n",
    "median_value=a.median() #Median\n",
    "mode_value=a.mode() #Mode\n",
    "variance_val=a.var() #Variance\n",
    "std_value=a.std() #standard deviation\n",
    "q25_value=a.quantile(0.25) #IQR\n",
    "q50_value=a.quantile(0.50)\n",
    "q75_value=a.quantile(0.75)\n",
    "data_type=a.dtype #Data type\n",
    "skew_value=a.skew() #Skewness\n",
    "kurt_value=a.kurt() #Kurtosis\n",
    "\n",
    "# #Printing all the required statistical data\n",
    "# print(f'''\n",
    "# AVG_MEAN_RATING\n",
    "# ---------------------\n",
    "# data type:{data_type}\n",
    "# count:    {count_value}\n",
    "\n",
    "# min:      {min_value}\n",
    "# max:      {max_value}\n",
    "\n",
    "# mean:     {mean_value}\n",
    "# median:   {median_value}\n",
    "# mode:     {mode_value[0]}\n",
    "\n",
    "# variance: {variance_val}\n",
    "# Std Devn: {std_value}\n",
    "\n",
    "# Skewness: {skew_value}\n",
    "# Kurtosis: {kurt_value}\n",
    "\n",
    "# IQR 25%:  {q25_value}\n",
    "# IQR 50%:  {q50_value}\n",
    "# IQR 75%:  {q75_value}\n",
    "# ''')"
   ]
  },
  {
   "cell_type": "code",
   "execution_count": 31,
   "id": "fa293578",
   "metadata": {},
   "outputs": [],
   "source": [
    "# #Plotting a histogram\n",
    "# plt.figure(figsize=(8,4))\n",
    "# a.hist()\n",
    "# plt.xlabel('Shopping Mall')\n",
    "# plt.ylabel('Count')\n",
    "\n",
    "# plt.axvline(mean_value,label='MEAN',color='red')\n",
    "# plt.axvline(median_value,label='MEDIAN',color='blue')\n",
    "# plt.axvline(mode_value[0],label='MODE',color='green')\n",
    "# plt.legend()\n",
    "# plt.show()"
   ]
  },
  {
   "cell_type": "code",
   "execution_count": 32,
   "id": "eaa1f31c",
   "metadata": {},
   "outputs": [],
   "source": [
    "# #Plottting a kde\n",
    "# sns.kdeplot(a)\n",
    "# plt.axvline(mean_value,label='MEAN',color='red')\n",
    "# plt.axvline(median_value,label='MEDIAN',color='blue')\n",
    "# plt.axvline(mode_value[0],label='MODE',color='green')\n",
    "# plt.legend()\n",
    "# plt.show()"
   ]
  },
  {
   "cell_type": "markdown",
   "id": "dafb7a8e",
   "metadata": {},
   "source": [
    "#### SPA"
   ]
  },
  {
   "cell_type": "code",
   "execution_count": 33,
   "id": "735d4b05",
   "metadata": {},
   "outputs": [],
   "source": [
    "a=data_train['Spa']\n",
    "#Descriptive statistics for thhe column Avg_mean_rating\n",
    "count_value=a.count() #Count of values\n",
    "min_value= a.min() #Minimum value\n",
    "max_value=a.max() #Maximum value\n",
    "mean_value=a.mean() #Mean\n",
    "median_value=a.median() #Median\n",
    "mode_value=a.mode() #Mode\n",
    "variance_val=a.var() #Variance\n",
    "std_value=a.std() #standard deviation\n",
    "q25_value=a.quantile(0.25) #IQR\n",
    "q50_value=a.quantile(0.50)\n",
    "q75_value=a.quantile(0.75)\n",
    "data_type=a.dtype #Data type\n",
    "skew_value=a.skew() #Skewness\n",
    "kurt_value=a.kurt() #Kurtosis\n",
    "\n",
    "#Printing all the required statistical data\n",
    "# print(f'''\n",
    "# AVG_MEAN_RATING\n",
    "# ---------------------\n",
    "# data type:{data_type}\n",
    "# count:    {count_value}\n",
    "\n",
    "# min:      {min_value}\n",
    "# max:      {max_value}\n",
    "\n",
    "# mean:     {mean_value}\n",
    "# median:   {median_value}\n",
    "# mode:     {mode_value[0]}\n",
    "\n",
    "# variance: {variance_val}\n",
    "# Std Devn: {std_value}\n",
    "\n",
    "# Skewness: {skew_value}\n",
    "# Kurtosis: {kurt_value}\n",
    "\n",
    "# IQR 25%:  {q25_value}\n",
    "# IQR 50%:  {q50_value}\n",
    "# IQR 75%:  {q75_value}\n",
    "# ''')"
   ]
  },
  {
   "cell_type": "code",
   "execution_count": 34,
   "id": "e9895a0f",
   "metadata": {},
   "outputs": [],
   "source": [
    "#Plotting a histogram\n",
    "# plt.figure(figsize=(8,4))\n",
    "# a.hist()\n",
    "# plt.xlabel('Spa')\n",
    "# plt.ylabel('Count')\n",
    "\n",
    "# plt.axvline(mean_value,label='MEAN',color='red')\n",
    "# plt.axvline(median_value,label='MEDIAN',color='blue')\n",
    "# plt.axvline(mode_value[0],label='MODE',color='green')\n",
    "# plt.legend()\n",
    "# plt.show()"
   ]
  },
  {
   "cell_type": "code",
   "execution_count": 35,
   "id": "b7dc579a",
   "metadata": {},
   "outputs": [],
   "source": [
    "# #Plottting a kde\n",
    "# sns.kdeplot(a)\n",
    "# plt.axvline(mean_value,label='MEAN',color='red')\n",
    "# plt.axvline(median_value,label='MEDIAN',color='blue')\n",
    "# plt.axvline(mode_value[0],label='MODE',color='green')\n",
    "# plt.legend()\n",
    "# plt.show()"
   ]
  },
  {
   "cell_type": "markdown",
   "id": "b5dbaf01",
   "metadata": {},
   "source": [
    "#### VRDeck"
   ]
  },
  {
   "cell_type": "code",
   "execution_count": 36,
   "id": "3fc0f576",
   "metadata": {},
   "outputs": [],
   "source": [
    "a=data_train['VRDeck']\n",
    "#Descriptive statistics for thhe column Avg_mean_rating\n",
    "count_value=a.count() #Count of values\n",
    "min_value= a.min() #Minimum value\n",
    "max_value=a.max() #Maximum value\n",
    "mean_value=a.mean() #Mean\n",
    "median_value=a.median() #Median\n",
    "mode_value=a.mode() #Mode\n",
    "variance_val=a.var() #Variance\n",
    "std_value=a.std() #standard deviation\n",
    "q25_value=a.quantile(0.25) #IQR\n",
    "q50_value=a.quantile(0.50)\n",
    "q75_value=a.quantile(0.75)\n",
    "data_type=a.dtype #Data type\n",
    "skew_value=a.skew() #Skewness\n",
    "kurt_value=a.kurt() #Kurtosis\n",
    "\n",
    "# #Printing all the required statistical data\n",
    "# print(f'''\n",
    "# AVG_MEAN_RATING\n",
    "# ---------------------\n",
    "# data type:{data_type}\n",
    "# count:    {count_value}\n",
    "\n",
    "# min:      {min_value}\n",
    "# max:      {max_value}\n",
    "\n",
    "# mean:     {mean_value}\n",
    "# median:   {median_value}\n",
    "# mode:     {mode_value[0]}\n",
    "\n",
    "# variance: {variance_val}\n",
    "# Std Devn: {std_value}\n",
    "\n",
    "# Skewness: {skew_value}\n",
    "# Kurtosis: {kurt_value}\n",
    "\n",
    "# IQR 25%:  {q25_value}\n",
    "# IQR 50%:  {q50_value}\n",
    "# IQR 75%:  {q75_value}\n",
    "# ''')"
   ]
  },
  {
   "cell_type": "code",
   "execution_count": 37,
   "id": "a9d39162",
   "metadata": {},
   "outputs": [],
   "source": [
    "# # #Plotting a histogram\n",
    "# plt.figure(figsize=(8,4))\n",
    "# a.hist()\n",
    "# plt.xlabel('VRDeck')\n",
    "# plt.ylabel('Count')\n",
    "\n",
    "# plt.axvline(mean_value,label='MEAN',color='red')\n",
    "# plt.axvline(median_value,label='MEDIAN',color='blue')\n",
    "# plt.axvline(mode_value[0],label='MODE',color='green')\n",
    "# plt.legend()\n",
    "# plt.show()"
   ]
  },
  {
   "cell_type": "code",
   "execution_count": 38,
   "id": "0c27c792",
   "metadata": {},
   "outputs": [],
   "source": [
    "# # #Plottting a kde\n",
    "# sns.kdeplot(a)\n",
    "# plt.axvline(mean_value,label='MEAN',color='red')\n",
    "# plt.axvline(median_value,label='MEDIAN',color='blue')\n",
    "# plt.axvline(mode_value[0],label='MODE',color='green')\n",
    "# plt.legend()\n",
    "# plt.show()"
   ]
  },
  {
   "cell_type": "markdown",
   "id": "610ab6ca",
   "metadata": {},
   "source": [
    "### Bi-Variate Analysis"
   ]
  },
  {
   "cell_type": "code",
   "execution_count": 39,
   "id": "b1b0c2b6",
   "metadata": {},
   "outputs": [],
   "source": [
    "# pd.crosstab(data_train['HomePlanet'], data_train['Destination'])"
   ]
  },
  {
   "cell_type": "code",
   "execution_count": 40,
   "id": "33bd4ba4",
   "metadata": {},
   "outputs": [],
   "source": [
    "# plt.figure(figsize=(5,3))\n",
    "# sns.catplot(x='HomePlanet', col='Destination', data=data_train, kind='count', height=4, aspect=0.5)\n",
    "# plt.show()"
   ]
  },
  {
   "cell_type": "code",
   "execution_count": 41,
   "id": "84b8a8ba",
   "metadata": {},
   "outputs": [],
   "source": [
    "# pd.crosstab(data_train['HomePlanet'], data_train['CryoSleep'])"
   ]
  },
  {
   "cell_type": "code",
   "execution_count": 42,
   "id": "d3ea649f",
   "metadata": {},
   "outputs": [],
   "source": [
    "# plt.figure(figsize=(5,3))\n",
    "# sns.catplot(x='HomePlanet', col='CryoSleep', data=data_train, kind='count', height=4, aspect=0.5)\n",
    "# plt.show()"
   ]
  },
  {
   "cell_type": "code",
   "execution_count": 43,
   "id": "7a01d7ab",
   "metadata": {},
   "outputs": [],
   "source": [
    "# data_train.groupby('HomePlanet').sum()['FoodCourt']  # for target = 1"
   ]
  },
  {
   "cell_type": "code",
   "execution_count": 44,
   "id": "6787b7b6",
   "metadata": {},
   "outputs": [],
   "source": [
    "# plt.figure(figsize=(7,4))\n",
    "# (data_train.groupby('HomePlanet').sum()['FoodCourt']).plot(kind='bar')"
   ]
  },
  {
   "cell_type": "code",
   "execution_count": 45,
   "id": "e78e4c23",
   "metadata": {},
   "outputs": [],
   "source": [
    "# plt.figure(figsize=(5,3))\n",
    "# sns.catplot(x='HomePlanet', col='CryoSleep', data=data_train, kind='count', height=4, aspect=0.5)\n",
    "# plt.show()"
   ]
  },
  {
   "cell_type": "code",
   "execution_count": 46,
   "id": "8f83ad31",
   "metadata": {},
   "outputs": [],
   "source": [
    "# data_train.groupby('HomePlanet').sum()['CryoSleep'] "
   ]
  },
  {
   "cell_type": "markdown",
   "id": "2bdfc7f0",
   "metadata": {},
   "source": [
    "These graphs show the structure of 6 of the features present in the dataset. None of them has a normal distribution and in the vast majority, they are skewed to the right. For the section with the age, we can change the ranges of age to normalize the distribution.  Food court and spad are highly influenced by the first group of values. For the rest, we can consider using the median instead of the mean to fill in the missing values."
   ]
  },
  {
   "cell_type": "code",
   "execution_count": 47,
   "id": "f3bc9e57",
   "metadata": {},
   "outputs": [
    {
     "data": {
      "text/plain": [
       "<Figure size 2000x1000 with 0 Axes>"
      ]
     },
     "metadata": {},
     "output_type": "display_data"
    },
    {
     "data": {
      "image/png": "[encoded data removed]",
      "text/plain": [
       "<Figure size 640x480 with 6 Axes>"
      ]
     },
     "metadata": {},
     "output_type": "display_data"
    }
   ],
   "source": [
    "plt.figure(figsize=(20,10))\n",
    "data_train.hist()\n",
    "plt.tight_layout()\n",
    "plt.show()"
   ]
  },
  {
   "cell_type": "code",
   "execution_count": 48,
   "id": "f1c88dbb",
   "metadata": {},
   "outputs": [],
   "source": [
    "#sns.pairplot(data_train, hue='Transported')"
   ]
  },
  {
   "cell_type": "markdown",
   "id": "812f49f4",
   "metadata": {},
   "source": [
    "## Feature Engineering\n",
    "\n",
    "While creating new features or columns with information, the team started by transforming the information that was already existing in the dataset but structuring it in a way that the machine learning models were able to leverage it. This is called “One hot encoding” (w3schools) and in this way, we are able to get new numerical information from a column that previously was just text. As an example, we separated the “home planet” into 3 new columns (Earth, Mars, Europa). if the passenger came from any of these destinations then we get a 1 or 0 instead of just the name. Finally, we got 21 columns in total compared to the previous 14."
   ]
  },
  {
   "cell_type": "code",
   "execution_count": 49,
   "id": "1478de0b",
   "metadata": {},
   "outputs": [],
   "source": [
    "\n",
    "# split the \"Cabin\" column into three separate columns\n",
    "data_train[['Deck', 'Num', 'Side']] = data_train['Cabin'].str.split('/', expand=True)\n",
    "\n",
    "# remove the original \"Cabin\" column\n",
    "data_train = data_train.drop(columns=['Cabin'])\n",
    "#data_train = data_train.drop(columns=['PassengerId'])\n",
    "data_train = data_train.drop(columns=['Name'])\n",
    "\n",
    "\n",
    "# print the resulting dataframe\n",
    "# data_train.head(2)"
   ]
  },
  {
   "cell_type": "code",
   "execution_count": 50,
   "id": "656db933",
   "metadata": {},
   "outputs": [],
   "source": [
    "encoded_data = pd.get_dummies(data_train['HomePlanet'], prefix='HomePlanet',drop_first=True)\n",
    "\n",
    "# Add the one-hot encoded columns to the original DataFrame\n",
    "data_train = pd.concat([data_train, encoded_data], axis=1)"
   ]
  },
  {
   "cell_type": "code",
   "execution_count": 51,
   "id": "308588b3",
   "metadata": {},
   "outputs": [],
   "source": [
    "encoded_data = pd.get_dummies(data_train['CryoSleep'], prefix='CryoSleep',drop_first=True)\n",
    "\n",
    "# Add the one-hot encoded columns to the original DataFrame\n",
    "data_train = pd.concat([data_train, encoded_data], axis=1)"
   ]
  },
  {
   "cell_type": "code",
   "execution_count": 52,
   "id": "393341b2",
   "metadata": {},
   "outputs": [],
   "source": [
    "encoded_data = pd.get_dummies(data_train['Destination'], prefix='Destination',drop_first=True)\n",
    "\n",
    "# Add the one-hot encoded columns to the original DataFrame\n",
    "data_train = pd.concat([data_train, encoded_data], axis=1)"
   ]
  },
  {
   "cell_type": "code",
   "execution_count": 53,
   "id": "7ef3a28c",
   "metadata": {
    "execution": {
     "iopub.execute_input": "2023-03-10T00:50:24.380542Z",
     "iopub.status.busy": "2023-03-10T00:50:24.379256Z",
     "iopub.status.idle": "2023-03-10T00:50:24.390564Z",
     "shell.execute_reply": "2023-03-10T00:50:24.389288Z"
    },
    "papermill": {
     "duration": 0.029698,
     "end_time": "2023-03-10T00:50:24.393287",
     "exception": false,
     "start_time": "2023-03-10T00:50:24.363589",
     "status": "completed"
    },
    "tags": []
   },
   "outputs": [],
   "source": [
    "encoded_data = pd.get_dummies(data_train['VIP'], prefix='VIP',drop_first=True)\n",
    "\n",
    "# Add the one-hot encoded columns to the original DataFrame\n",
    "data_train = pd.concat([data_train, encoded_data], axis=1)"
   ]
  },
  {
   "cell_type": "code",
   "execution_count": 54,
   "id": "ddae4062",
   "metadata": {
    "execution": {
     "iopub.execute_input": "2023-03-10T00:50:24.425085Z",
     "iopub.status.busy": "2023-03-10T00:50:24.424681Z",
     "iopub.status.idle": "2023-03-10T00:50:24.434892Z",
     "shell.execute_reply": "2023-03-10T00:50:24.433974Z"
    },
    "papermill": {
     "duration": 0.028835,
     "end_time": "2023-03-10T00:50:24.437319",
     "exception": false,
     "start_time": "2023-03-10T00:50:24.408484",
     "status": "completed"
    },
    "tags": []
   },
   "outputs": [],
   "source": [
    "encoded_data = pd.get_dummies(data_train['Deck'], prefix='Deck',drop_first=True)\n",
    "\n",
    "# Add the one-hot encoded columns to the original DataFrame\n",
    "data_train = pd.concat([data_train, encoded_data], axis=1)"
   ]
  },
  {
   "cell_type": "code",
   "execution_count": 55,
   "id": "79cd0cdd",
   "metadata": {
    "execution": {
     "iopub.execute_input": "2023-03-10T00:50:24.467665Z",
     "iopub.status.busy": "2023-03-10T00:50:24.466628Z",
     "iopub.status.idle": "2023-03-10T00:50:24.475901Z",
     "shell.execute_reply": "2023-03-10T00:50:24.474900Z"
    },
    "papermill": {
     "duration": 0.027293,
     "end_time": "2023-03-10T00:50:24.478472",
     "exception": false,
     "start_time": "2023-03-10T00:50:24.451179",
     "status": "completed"
    },
    "tags": []
   },
   "outputs": [],
   "source": [
    "encoded_data = pd.get_dummies(data_train['Side'], prefix='Side',drop_first=True)\n",
    "\n",
    "# Add the one-hot encoded columns to the original DataFrame\n",
    "data_train = pd.concat([data_train, encoded_data], axis=1)"
   ]
  },
  {
   "cell_type": "code",
   "execution_count": 56,
   "id": "08e4b943",
   "metadata": {
    "execution": {
     "iopub.execute_input": "2023-03-10T00:50:24.508458Z",
     "iopub.status.busy": "2023-03-10T00:50:24.508033Z",
     "iopub.status.idle": "2023-03-10T00:50:24.525530Z",
     "shell.execute_reply": "2023-03-10T00:50:24.524380Z"
    },
    "papermill": {
     "duration": 0.036043,
     "end_time": "2023-03-10T00:50:24.528438",
     "exception": false,
     "start_time": "2023-03-10T00:50:24.492395",
     "status": "completed"
    },
    "tags": []
   },
   "outputs": [],
   "source": [
    "# remove the original \"Cabin\" column\n",
    "data_train = data_train.drop(columns=['HomePlanet'])\n",
    "data_train = data_train.drop(columns=['CryoSleep'])\n",
    "data_train = data_train.drop(columns=['Destination'])\n",
    "data_train = data_train.drop(columns=['VIP'])\n",
    "data_train = data_train.drop(columns=['Deck'])\n",
    "data_train = data_train.drop(columns=['Side'])"
   ]
  },
  {
   "cell_type": "code",
   "execution_count": 57,
   "id": "555d2c9a",
   "metadata": {
    "execution": {
     "iopub.execute_input": "2023-03-10T00:50:24.558818Z",
     "iopub.status.busy": "2023-03-10T00:50:24.558335Z",
     "iopub.status.idle": "2023-03-10T00:50:24.582059Z",
     "shell.execute_reply": "2023-03-10T00:50:24.581174Z"
    },
    "papermill": {
     "duration": 0.041745,
     "end_time": "2023-03-10T00:50:24.584364",
     "exception": false,
     "start_time": "2023-03-10T00:50:24.542619",
     "status": "completed"
    },
    "tags": []
   },
   "outputs": [],
   "source": [
    "from sklearn.preprocessing import LabelEncoder\n",
    "LE=LabelEncoder()\n",
    "data_train['Transported']=LE.fit_transform((data_train['Transported']))\n",
    "# data_train.head(2)"
   ]
  },
  {
   "cell_type": "code",
   "execution_count": 58,
   "id": "c5435c8c",
   "metadata": {
    "execution": {
     "iopub.execute_input": "2023-03-10T00:50:24.614818Z",
     "iopub.status.busy": "2023-03-10T00:50:24.614370Z",
     "iopub.status.idle": "2023-03-10T00:50:24.619142Z",
     "shell.execute_reply": "2023-03-10T00:50:24.617946Z"
    },
    "papermill": {
     "duration": 0.023107,
     "end_time": "2023-03-10T00:50:24.621851",
     "exception": false,
     "start_time": "2023-03-10T00:50:24.598744",
     "status": "completed"
    },
    "tags": []
   },
   "outputs": [],
   "source": [
    "#from sklearn.preprocessing import PowerTransformer\n",
    "#PT_yj = PowerTransformer(method='yeo-johnson')"
   ]
  },
  {
   "cell_type": "code",
   "execution_count": 59,
   "id": "3140edbb",
   "metadata": {
    "execution": {
     "iopub.execute_input": "2023-03-10T00:50:24.653039Z",
     "iopub.status.busy": "2023-03-10T00:50:24.652368Z",
     "iopub.status.idle": "2023-03-10T00:50:24.657289Z",
     "shell.execute_reply": "2023-03-10T00:50:24.656445Z"
    },
    "papermill": {
     "duration": 0.023363,
     "end_time": "2023-03-10T00:50:24.659541",
     "exception": false,
     "start_time": "2023-03-10T00:50:24.636178",
     "status": "completed"
    },
    "tags": []
   },
   "outputs": [],
   "source": [
    "#data_train[['Age','RoomService','FoodCourt','ShoppingMall','Spa','VRDeck']]=PT_yj.fit_transform(data_train[['Age','RoomService','FoodCourt','ShoppingMall','Spa','VRDeck']])\n"
   ]
  },
  {
   "cell_type": "code",
   "execution_count": 60,
   "id": "1f32b706",
   "metadata": {
    "execution": {
     "iopub.execute_input": "2023-03-10T00:50:24.692279Z",
     "iopub.status.busy": "2023-03-10T00:50:24.691593Z",
     "iopub.status.idle": "2023-03-10T00:50:24.696746Z",
     "shell.execute_reply": "2023-03-10T00:50:24.695894Z"
    },
    "papermill": {
     "duration": 0.024617,
     "end_time": "2023-03-10T00:50:24.699006",
     "exception": false,
     "start_time": "2023-03-10T00:50:24.674389",
     "status": "completed"
    },
    "tags": []
   },
   "outputs": [],
   "source": [
    "#from sklearn.preprocessing import StandardScaler\n",
    "#ss=StandardScaler()\n",
    "#data_train['Age']=ss.fit_transform(data_train[['Age']])\n",
    "#data_train['RoomService']=ss.fit_transform(data_train[['RoomService']])\n",
    "#data_train['FoodCourt']=ss.fit_transform(data_train[['FoodCourt']])\n",
    "#data_train['ShoppingMall']=ss.fit_transform(data_train[['ShoppingMall']])\n",
    "#data_train['Spa']=ss.fit_transform(data_train[['Spa']])\n",
    "#data_train['VRDeck']=ss.fit_transform(data_train[['VRDeck']])"
   ]
  },
  {
   "cell_type": "code",
   "execution_count": 61,
   "id": "f90be3ce",
   "metadata": {
    "execution": {
     "iopub.execute_input": "2023-03-10T00:50:24.729488Z",
     "iopub.status.busy": "2023-03-10T00:50:24.729037Z",
     "iopub.status.idle": "2023-03-10T00:50:24.752109Z",
     "shell.execute_reply": "2023-03-10T00:50:24.750363Z"
    },
    "papermill": {
     "duration": 0.042198,
     "end_time": "2023-03-10T00:50:24.755399",
     "exception": false,
     "start_time": "2023-03-10T00:50:24.713201",
     "status": "completed"
    },
    "tags": []
   },
   "outputs": [],
   "source": [
    "# data_train.head(2)"
   ]
  },
  {
   "cell_type": "markdown",
   "id": "2890a219",
   "metadata": {
    "papermill": {
     "duration": 0.014344,
     "end_time": "2023-03-10T00:50:24.814565",
     "exception": false,
     "start_time": "2023-03-10T00:50:24.800221",
     "status": "completed"
    },
    "tags": []
   },
   "source": [
    "## Test Data"
   ]
  },
  {
   "cell_type": "markdown",
   "id": "0f80d29b",
   "metadata": {
    "papermill": {
     "duration": 0.014258,
     "end_time": "2023-03-10T00:50:24.843465",
     "exception": false,
     "start_time": "2023-03-10T00:50:24.829207",
     "status": "completed"
    },
    "tags": []
   },
   "source": [
    "<hr style=\"height:.9px;border:none;color:#333;background-color:#333;\" /><br>\n",
    "The test set is also available. Notice that there is no data for Transported (y-variable) in the test set. This is intentional.<br>"
   ]
  },
  {
   "cell_type": "code",
   "execution_count": 62,
   "id": "1ed7ff2e",
   "metadata": {
    "execution": {
     "iopub.execute_input": "2023-03-10T00:50:24.876078Z",
     "iopub.status.busy": "2023-03-10T00:50:24.874900Z",
     "iopub.status.idle": "2023-03-10T00:50:24.916399Z",
     "shell.execute_reply": "2023-03-10T00:50:24.914933Z"
    },
    "papermill": {
     "duration": 0.060377,
     "end_time": "2023-03-10T00:50:24.919024",
     "exception": false,
     "start_time": "2023-03-10T00:50:24.858647",
     "status": "completed"
    },
    "tags": []
   },
   "outputs": [],
   "source": [
    "# importing the training dataset\n",
    "#path             = \"/kaggle/input/spaceship-titanic/\" \n",
    "#training_dataset = \"train.csv\"\n",
    "\n",
    "\n",
    "#Reading the data from excel\n",
    "\n",
    "# specifying the path and file name\n",
    "file = 'test.csv'\n",
    "\n",
    "# reading the file into Python\n",
    "data_test=pd.read_csv(file)"
   ]
  },
  {
   "cell_type": "code",
   "execution_count": 63,
   "id": "94c402a6",
   "metadata": {
    "execution": {
     "iopub.execute_input": "2023-03-10T00:50:24.950928Z",
     "iopub.status.busy": "2023-03-10T00:50:24.949995Z",
     "iopub.status.idle": "2023-03-10T00:50:24.984005Z",
     "shell.execute_reply": "2023-03-10T00:50:24.982660Z"
    },
    "papermill": {
     "duration": 0.052897,
     "end_time": "2023-03-10T00:50:24.986780",
     "exception": false,
     "start_time": "2023-03-10T00:50:24.933883",
     "status": "completed"
    },
    "tags": []
   },
   "outputs": [],
   "source": [
    "import pandas as pd\n",
    "\n",
    "# split the \"Cabin\" column into three separate columns\n",
    "data_test[['Deck', 'Num', 'Side']] = data_test['Cabin'].str.split('/', expand=True)\n",
    "\n",
    "# remove the original \"Cabin\" column\n",
    "data_test = data_test.drop(columns=['Cabin'])\n",
    "#data_test = data_test.drop(columns=['PassengerId'])\n",
    "data_test = data_test.drop(columns=['Name'])\n",
    "\n",
    "\n",
    "# print the resulting dataframe\n",
    "# data_test.head(2)"
   ]
  },
  {
   "cell_type": "code",
   "execution_count": 64,
   "id": "89a98682",
   "metadata": {
    "execution": {
     "iopub.execute_input": "2023-03-10T00:50:25.018316Z",
     "iopub.status.busy": "2023-03-10T00:50:25.017868Z",
     "iopub.status.idle": "2023-03-10T00:50:25.037690Z",
     "shell.execute_reply": "2023-03-10T00:50:25.036027Z"
    },
    "papermill": {
     "duration": 0.039381,
     "end_time": "2023-03-10T00:50:25.040996",
     "exception": false,
     "start_time": "2023-03-10T00:50:25.001615",
     "status": "completed"
    },
    "tags": []
   },
   "outputs": [],
   "source": [
    "#most_common_value = data_test['HomePlanet'].mode()[0]              #Text\n",
    "#data_test['HomePlanet'].fillna(most_common_value, inplace=True)\n",
    "\n",
    "#most_common_value = data_test['CryoSleep'].value_counts().idxmax() #Bool\n",
    "#data_test['CryoSleep'].fillna(most_common_value, inplace=True)\n",
    "\n",
    "#most_common_value = data_test['Deck'].mode()[0]                  \n",
    "#data_test['Deck'].fillna(most_common_value, inplace=True)\n",
    "\n",
    "#most_common_value = data_test['Side'].mode()[0]                  \n",
    "#data_test['Side'].fillna(most_common_value, inplace=True)\n",
    "\n",
    "#most_common_value = data_test['Destination'].mode()[0]\n",
    "#data_test['Destination'].fillna(most_common_value, inplace=True)\n",
    "\n",
    "#data_test['Age'].fillna(data_test['Age'].mean(), inplace=True)\n",
    "\n",
    "#most_common_value = data_test['VIP'].value_counts().idxmax()\n",
    "#data_test['VIP'].fillna(most_common_value, inplace=True)\n",
    "\n",
    "#data_test['RoomService'].fillna(data_test['RoomService'].median(), inplace=True)\n",
    "\n",
    "#data_test['FoodCourt'].fillna(data_test['FoodCourt'].median(), inplace=True)\n",
    "\n",
    "#data_test['ShoppingMall'].fillna(data_test['ShoppingMall'].median(), inplace=True)\n",
    "\n",
    "#data_test['Spa'].fillna(data_test['Spa'].median(), inplace=True)\n",
    "\n",
    "#data_test['VRDeck'].fillna(data_test['VRDeck'].median(), inplace=True)\n",
    "\n",
    "#data_test['Num'].fillna(data_test['VRDeck'].median(), inplace=True)\n",
    "\n",
    "data_train.fillna(method='ffill');\n",
    "# titanic_train.head(5)\n",
    "#titanic_train.shape\n"
   ]
  },
  {
   "cell_type": "code",
   "execution_count": 65,
   "id": "164a44ac",
   "metadata": {
    "execution": {
     "iopub.execute_input": "2023-03-10T00:50:25.074076Z",
     "iopub.status.busy": "2023-03-10T00:50:25.073682Z",
     "iopub.status.idle": "2023-03-10T00:50:25.082959Z",
     "shell.execute_reply": "2023-03-10T00:50:25.081911Z"
    },
    "papermill": {
     "duration": 0.028455,
     "end_time": "2023-03-10T00:50:25.085283",
     "exception": false,
     "start_time": "2023-03-10T00:50:25.056828",
     "status": "completed"
    },
    "tags": []
   },
   "outputs": [],
   "source": [
    "encoded_data = pd.get_dummies(data_test['HomePlanet'], prefix='HomePlanet',drop_first=True)\n",
    "\n",
    "# Add the one-hot encoded columns to the original DataFrame\n",
    "data_test = pd.concat([data_test, encoded_data], axis=1)"
   ]
  },
  {
   "cell_type": "code",
   "execution_count": 66,
   "id": "d79339e3",
   "metadata": {
    "execution": {
     "iopub.execute_input": "2023-03-10T00:50:25.117006Z",
     "iopub.status.busy": "2023-03-10T00:50:25.116583Z",
     "iopub.status.idle": "2023-03-10T00:50:25.124760Z",
     "shell.execute_reply": "2023-03-10T00:50:25.123819Z"
    },
    "papermill": {
     "duration": 0.02682,
     "end_time": "2023-03-10T00:50:25.127076",
     "exception": false,
     "start_time": "2023-03-10T00:50:25.100256",
     "status": "completed"
    },
    "tags": []
   },
   "outputs": [],
   "source": [
    "encoded_data = pd.get_dummies(data_test['CryoSleep'], prefix='CryoSleep',drop_first=True)\n",
    "\n",
    "# Add the one-hot encoded columns to the original DataFrame\n",
    "data_test = pd.concat([data_test, encoded_data], axis=1)"
   ]
  },
  {
   "cell_type": "code",
   "execution_count": 67,
   "id": "ddee4a41",
   "metadata": {
    "execution": {
     "iopub.execute_input": "2023-03-10T00:50:25.159469Z",
     "iopub.status.busy": "2023-03-10T00:50:25.158723Z",
     "iopub.status.idle": "2023-03-10T00:50:25.167300Z",
     "shell.execute_reply": "2023-03-10T00:50:25.165854Z"
    },
    "papermill": {
     "duration": 0.027729,
     "end_time": "2023-03-10T00:50:25.169857",
     "exception": false,
     "start_time": "2023-03-10T00:50:25.142128",
     "status": "completed"
    },
    "tags": []
   },
   "outputs": [],
   "source": [
    "encoded_data = pd.get_dummies(data_test['Destination'], prefix='Destination',drop_first=True)\n",
    "\n",
    "# Add the one-hot encoded columns to the original DataFrame\n",
    "data_test = pd.concat([data_test, encoded_data], axis=1)"
   ]
  },
  {
   "cell_type": "code",
   "execution_count": 68,
   "id": "ee28e196",
   "metadata": {
    "execution": {
     "iopub.execute_input": "2023-03-10T00:50:25.202361Z",
     "iopub.status.busy": "2023-03-10T00:50:25.201616Z",
     "iopub.status.idle": "2023-03-10T00:50:25.209121Z",
     "shell.execute_reply": "2023-03-10T00:50:25.208206Z"
    },
    "papermill": {
     "duration": 0.026603,
     "end_time": "2023-03-10T00:50:25.211639",
     "exception": false,
     "start_time": "2023-03-10T00:50:25.185036",
     "status": "completed"
    },
    "tags": []
   },
   "outputs": [],
   "source": [
    "encoded_data = pd.get_dummies(data_test['VIP'], prefix='VIP',drop_first=True)\n",
    "\n",
    "# Add the one-hot encoded columns to the original DataFrame\n",
    "data_test = pd.concat([data_test, encoded_data], axis=1)"
   ]
  },
  {
   "cell_type": "code",
   "execution_count": 69,
   "id": "f4f7cd61",
   "metadata": {
    "execution": {
     "iopub.execute_input": "2023-03-10T00:50:25.245361Z",
     "iopub.status.busy": "2023-03-10T00:50:25.244629Z",
     "iopub.status.idle": "2023-03-10T00:50:25.252661Z",
     "shell.execute_reply": "2023-03-10T00:50:25.251478Z"
    },
    "papermill": {
     "duration": 0.028271,
     "end_time": "2023-03-10T00:50:25.255317",
     "exception": false,
     "start_time": "2023-03-10T00:50:25.227046",
     "status": "completed"
    },
    "tags": []
   },
   "outputs": [],
   "source": [
    "encoded_data = pd.get_dummies(data_test['Deck'], prefix='Deck',drop_first=True)\n",
    "\n",
    "# Add the one-hot encoded columns to the original DataFrame\n",
    "data_test = pd.concat([data_test, encoded_data], axis=1)"
   ]
  },
  {
   "cell_type": "code",
   "execution_count": 70,
   "id": "03ac430b",
   "metadata": {
    "execution": {
     "iopub.execute_input": "2023-03-10T00:50:25.286973Z",
     "iopub.status.busy": "2023-03-10T00:50:25.286543Z",
     "iopub.status.idle": "2023-03-10T00:50:25.294745Z",
     "shell.execute_reply": "2023-03-10T00:50:25.293641Z"
    },
    "papermill": {
     "duration": 0.027347,
     "end_time": "2023-03-10T00:50:25.297619",
     "exception": false,
     "start_time": "2023-03-10T00:50:25.270272",
     "status": "completed"
    },
    "tags": []
   },
   "outputs": [],
   "source": [
    "encoded_data = pd.get_dummies(data_test['Side'], prefix='Side',drop_first=True)\n",
    "\n",
    "# Add the one-hot encoded columns to the original DataFrame\n",
    "data_test = pd.concat([data_test, encoded_data], axis=1)"
   ]
  },
  {
   "cell_type": "code",
   "execution_count": 71,
   "id": "d66c634a",
   "metadata": {
    "execution": {
     "iopub.execute_input": "2023-03-10T00:50:25.330106Z",
     "iopub.status.busy": "2023-03-10T00:50:25.329678Z",
     "iopub.status.idle": "2023-03-10T00:50:25.344737Z",
     "shell.execute_reply": "2023-03-10T00:50:25.343640Z"
    },
    "papermill": {
     "duration": 0.034454,
     "end_time": "2023-03-10T00:50:25.347776",
     "exception": false,
     "start_time": "2023-03-10T00:50:25.313322",
     "status": "completed"
    },
    "tags": []
   },
   "outputs": [],
   "source": [
    "# remove the original \"Cabin\" column\n",
    "data_test = data_test.drop(columns=['HomePlanet'])\n",
    "data_test = data_test.drop(columns=['CryoSleep'])\n",
    "data_test = data_test.drop(columns=['Destination'])\n",
    "data_test = data_test.drop(columns=['VIP'])\n",
    "data_test = data_test.drop(columns=['Deck'])\n",
    "data_test = data_test.drop(columns=['Side'])"
   ]
  },
  {
   "cell_type": "code",
   "execution_count": 72,
   "id": "61c40694",
   "metadata": {
    "execution": {
     "iopub.execute_input": "2023-03-10T00:50:25.380589Z",
     "iopub.status.busy": "2023-03-10T00:50:25.379782Z",
     "iopub.status.idle": "2023-03-10T00:50:25.385004Z",
     "shell.execute_reply": "2023-03-10T00:50:25.383943Z"
    },
    "papermill": {
     "duration": 0.024669,
     "end_time": "2023-03-10T00:50:25.387464",
     "exception": false,
     "start_time": "2023-03-10T00:50:25.362795",
     "status": "completed"
    },
    "tags": []
   },
   "outputs": [],
   "source": [
    "#from sklearn.preprocessing import PowerTransformer\n",
    "#PT_yj = PowerTransformer(method='yeo-johnson')"
   ]
  },
  {
   "cell_type": "code",
   "execution_count": 73,
   "id": "dcbe9e47",
   "metadata": {
    "execution": {
     "iopub.execute_input": "2023-03-10T00:50:25.419339Z",
     "iopub.status.busy": "2023-03-10T00:50:25.418923Z",
     "iopub.status.idle": "2023-03-10T00:50:25.423204Z",
     "shell.execute_reply": "2023-03-10T00:50:25.422338Z"
    },
    "papermill": {
     "duration": 0.022985,
     "end_time": "2023-03-10T00:50:25.425287",
     "exception": false,
     "start_time": "2023-03-10T00:50:25.402302",
     "status": "completed"
    },
    "tags": []
   },
   "outputs": [],
   "source": [
    "#data_test[['Age','RoomService','FoodCourt','ShoppingMall','Spa','VRDeck']]=PT_yj.fit_transform(data_test[['Age','RoomService','FoodCourt','ShoppingMall','Spa','VRDeck']])\n"
   ]
  },
  {
   "cell_type": "code",
   "execution_count": 74,
   "id": "3c0e4bfb",
   "metadata": {
    "execution": {
     "iopub.execute_input": "2023-03-10T00:50:25.456602Z",
     "iopub.status.busy": "2023-03-10T00:50:25.456197Z",
     "iopub.status.idle": "2023-03-10T00:50:25.461038Z",
     "shell.execute_reply": "2023-03-10T00:50:25.460039Z"
    },
    "papermill": {
     "duration": 0.023088,
     "end_time": "2023-03-10T00:50:25.463200",
     "exception": false,
     "start_time": "2023-03-10T00:50:25.440112",
     "status": "completed"
    },
    "tags": []
   },
   "outputs": [],
   "source": [
    "#from sklearn.preprocessing import StandardScaler\n",
    "#ss=StandardScaler()\n",
    "#data_test['Age']=ss.fit_transform(data_test[['Age']])\n",
    "#data_test['RoomService']=ss.fit_transform(data_test[['RoomService']])\n",
    "#data_test['FoodCourt']=ss.fit_transform(data_test[['FoodCourt']])\n",
    "#data_test['ShoppingMall']=ss.fit_transform(data_test[['ShoppingMall']])\n",
    "#data_test['Spa']=ss.fit_transform(data_test[['Spa']])\n",
    "#data_test['VRDeck']=ss.fit_transform(data_test[['VRDeck']])"
   ]
  },
  {
   "cell_type": "markdown",
   "id": "22534ab3",
   "metadata": {
    "papermill": {
     "duration": 0.014252,
     "end_time": "2023-03-10T00:50:25.492160",
     "exception": false,
     "start_time": "2023-03-10T00:50:25.477908",
     "status": "completed"
    },
    "tags": []
   },
   "source": [
    "<hr style=\"height:.9px;border:none;color:#333;background-color:#333;\" /><br>\n",
    "You may want to join the datasets together before feature engineering. This will help make things more efficient.<br>"
   ]
  },
  {
   "cell_type": "code",
   "execution_count": 75,
   "id": "160b4164",
   "metadata": {
    "execution": {
     "iopub.execute_input": "2023-03-10T00:50:25.523971Z",
     "iopub.status.busy": "2023-03-10T00:50:25.523535Z",
     "iopub.status.idle": "2023-03-10T00:50:25.535054Z",
     "shell.execute_reply": "2023-03-10T00:50:25.533676Z"
    },
    "papermill": {
     "duration": 0.031032,
     "end_time": "2023-03-10T00:50:25.537909",
     "exception": false,
     "start_time": "2023-03-10T00:50:25.506877",
     "status": "completed"
    },
    "tags": []
   },
   "outputs": [],
   "source": [
    "data_train['set'] = 'Training'\n",
    "data_test ['set'] = 'Testing'\n",
    "\n",
    "# concatenating both datasets together for mv and feature engineering\n",
    "titanic_df = data_train.append(other = data_test)\n",
    "\n",
    "# resetting index to avoid problems later in the code\n",
    "titanic_df.reset_index(drop = False,\n",
    "                       inplace = True)"
   ]
  },
  {
   "cell_type": "code",
   "execution_count": 76,
   "id": "4f706664",
   "metadata": {
    "execution": {
     "iopub.execute_input": "2023-03-10T00:50:25.570326Z",
     "iopub.status.busy": "2023-03-10T00:50:25.569070Z",
     "iopub.status.idle": "2023-03-10T00:50:25.594719Z",
     "shell.execute_reply": "2023-03-10T00:50:25.593573Z"
    },
    "papermill": {
     "duration": 0.044314,
     "end_time": "2023-03-10T00:50:25.597171",
     "exception": false,
     "start_time": "2023-03-10T00:50:25.552857",
     "status": "completed"
    },
    "tags": []
   },
   "outputs": [],
   "source": [
    "# data_test.head(5)"
   ]
  },
  {
   "cell_type": "code",
   "execution_count": 77,
   "id": "7e32cf22",
   "metadata": {
    "execution": {
     "iopub.execute_input": "2023-03-10T00:50:25.630624Z",
     "iopub.status.busy": "2023-03-10T00:50:25.630189Z",
     "iopub.status.idle": "2023-03-10T00:50:25.649250Z",
     "shell.execute_reply": "2023-03-10T00:50:25.647511Z"
    },
    "papermill": {
     "duration": 0.039566,
     "end_time": "2023-03-10T00:50:25.652212",
     "exception": false,
     "start_time": "2023-03-10T00:50:25.612646",
     "status": "completed"
    },
    "tags": []
   },
   "outputs": [],
   "source": [
    "# titanic_df.info()"
   ]
  },
  {
   "cell_type": "markdown",
   "id": "ed316cba",
   "metadata": {
    "papermill": {
     "duration": 0.015677,
     "end_time": "2023-03-10T00:50:25.684383",
     "exception": false,
     "start_time": "2023-03-10T00:50:25.668706",
     "status": "completed"
    },
    "tags": []
   },
   "source": [
    "<hr style=\"height:.9px;border:none;color:#333;background-color:#333;\" /><br>\n",
    "Let's look at correlations to find an x-variable to model with.<br>"
   ]
  },
  {
   "cell_type": "markdown",
   "id": "5669f093",
   "metadata": {},
   "source": [
    "Then to generate the result of the correlation between each variable, the column Transported is set as the dependent variable(the one affected by the rest). The remaining 20 variables are considered as independent variables  (the ones affecting ‘transported’). The result is a list with the percentage of influence that each column has on the result we want.  At the top, we have if a person is using cryosleep with the most influence, followed by the use of room service and the use of the spa. The variables with the weakest correlations were the destination PSO_j318, the deck_T, and visits to the shopping mall."
   ]
  },
  {
   "cell_type": "code",
   "execution_count": 78,
   "id": "70d4c6f1",
   "metadata": {
    "execution": {
     "iopub.execute_input": "2023-03-10T00:50:25.717881Z",
     "iopub.status.busy": "2023-03-10T00:50:25.716448Z",
     "iopub.status.idle": "2023-03-10T00:50:25.748440Z",
     "shell.execute_reply": "2023-03-10T00:50:25.746897Z"
    },
    "papermill": {
     "duration": 0.051523,
     "end_time": "2023-03-10T00:50:25.751177",
     "exception": false,
     "start_time": "2023-03-10T00:50:25.699654",
     "status": "completed"
    },
    "tags": []
   },
   "outputs": [
    {
     "name": "stdout",
     "output_type": "stream",
     "text": [
      "Transported                 1.000000\n",
      "CryoSleep_True              0.456100\n",
      "RoomService                 0.241300\n",
      "Spa                         0.217200\n",
      "VRDeck                      0.204800\n",
      "HomePlanet_Europa           0.179800\n",
      "Deck_B                      0.144300\n",
      "Deck_C                      0.107500\n",
      "Side_S                      0.103100\n",
      "Deck_E                      0.096600\n",
      "Destination_TRAPPIST-1e     0.096600\n",
      "Deck_F                      0.090100\n",
      "Age                         0.074200\n",
      "FoodCourt                   0.046000\n",
      "VIP_True                    0.034600\n",
      "Deck_D                      0.034300\n",
      "HomePlanet_Mars             0.019600\n",
      "Deck_G                      0.017300\n",
      "Deck_T                      0.014600\n",
      "ShoppingMall                0.010200\n",
      "Destination_PSO J318.5-22   0.000800\n",
      "Name: Transported, dtype: float64\n"
     ]
    }
   ],
   "source": [
    "# instantiating a correlation matrix\n",
    "titanic_corr = data_train.corr(method = 'pearson').round(decimals = 4)\n",
    "\n",
    "# transforming correlations to absolute values\n",
    "titanic_corr_Result = titanic_corr.loc[ : , 'Transported' ].apply(func = abs).sort_values(ascending = False).round(decimals = 4)\n",
    "print(titanic_corr_Result)"
   ]
  },
  {
   "cell_type": "markdown",
   "id": "d16b6783",
   "metadata": {
    "papermill": {
     "duration": 0.014834,
     "end_time": "2023-03-10T00:50:25.781445",
     "exception": false,
     "start_time": "2023-03-10T00:50:25.766611",
     "status": "completed"
    },
    "tags": []
   },
   "source": [
    "<hr style=\"height:.9px;border:none;color:#333;background-color:#333;\" /><br>\n",
    "Since training and testing sets have already been developed for us, we can simply select the X-features we want to model with and we're good to go.<br>"
   ]
  },
  {
   "cell_type": "code",
   "execution_count": 79,
   "id": "c618a8c5",
   "metadata": {
    "execution": {
     "iopub.execute_input": "2023-03-10T00:50:25.814773Z",
     "iopub.status.busy": "2023-03-10T00:50:25.813295Z",
     "iopub.status.idle": "2023-03-10T00:50:25.827375Z",
     "shell.execute_reply": "2023-03-10T00:50:25.826358Z"
    },
    "papermill": {
     "duration": 0.033467,
     "end_time": "2023-03-10T00:50:25.830120",
     "exception": false,
     "start_time": "2023-03-10T00:50:25.796653",
     "status": "completed"
    },
    "tags": []
   },
   "outputs": [],
   "source": [
    "\n",
    "# imputing in missing values for RoomService\n",
    "#titanic_df[ 'RoomService' ].fillna(value = 0, inplace = True)\n",
    "\n",
    "# setting explanatory variable(s) with most correlated x-variable\n",
    "x_train = titanic_df[ ['CryoSleep_True','Spa','RoomService','VRDeck','ShoppingMall','FoodCourt','HomePlanet_Europa','Deck_B','Deck_C','Side_S','Destination_TRAPPIST-1e','Deck_E','Deck_F','Age','VIP_True','Deck_D','HomePlanet_Mars','Deck_G','Deck_T','Destination_PSO J318.5-22'] ][ titanic_df['set'] == 'Training' ]\n",
    "#x_train = titanic_df[ ['CryoSleep_True','Spa','RoomService'] ][ titanic_df['set'] == 'Training' ]\n",
    "\n",
    "# setting response variable\n",
    "y_train = titanic_df[ 'Transported' ][ titanic_df['set']   == 'Training' ]"
   ]
  },
  {
   "cell_type": "markdown",
   "id": "4b08fd8f",
   "metadata": {},
   "source": [
    "## Multivariate Analysis"
   ]
  },
  {
   "cell_type": "code",
   "execution_count": 80,
   "id": "0a336ed2",
   "metadata": {},
   "outputs": [],
   "source": [
    "#plt.figure(figsize=(20,10))\n",
    "#titanic_df.hist()\n",
    "#plt.tight_layout()\n",
    "#plt.show()"
   ]
  },
  {
   "cell_type": "code",
   "execution_count": 81,
   "id": "aa41fbeb",
   "metadata": {},
   "outputs": [],
   "source": [
    "#sns.pairplot(titanic_df, hue='Transported')"
   ]
  },
  {
   "cell_type": "code",
   "execution_count": 82,
   "id": "1a3063cf",
   "metadata": {},
   "outputs": [],
   "source": [
    "# titanic_df.corr()"
   ]
  },
  {
   "cell_type": "code",
   "execution_count": 83,
   "id": "afc613a4",
   "metadata": {},
   "outputs": [],
   "source": [
    "# sns.heatmap(titanic_df.corr(), annot = True, linewidths=.5, center=0)\n",
    "\n",
    "# # rotation = 'horizontal' rotates the y-axis labels horizontally\n",
    "# # set text size using 'fontsize'\n",
    "# plt.yticks(rotation = 'horizontal', fontsize = 15)\n",
    "# plt.xticks(rotation = 'vertical', fontsize = 15)\n",
    "\n",
    "# display the plot\n",
    "# plt.show()"
   ]
  },
  {
   "cell_type": "code",
   "execution_count": 84,
   "id": "1b5cb212",
   "metadata": {
    "execution": {
     "iopub.execute_input": "2023-03-10T00:50:25.864502Z",
     "iopub.status.busy": "2023-03-10T00:50:25.863649Z",
     "iopub.status.idle": "2023-03-10T00:50:25.868683Z",
     "shell.execute_reply": "2023-03-10T00:50:25.867791Z"
    },
    "papermill": {
     "duration": 0.02501,
     "end_time": "2023-03-10T00:50:25.871195",
     "exception": false,
     "start_time": "2023-03-10T00:50:25.846185",
     "status": "completed"
    },
    "tags": []
   },
   "outputs": [],
   "source": [
    "# plot the heat map\n",
    "# corr(): give the correlation matrix\n",
    "# annot: prints the correlation values in the chart\n",
    "# annot_kws: sets the font size of the annotation\n",
    "#sns.heatmap(titanic_df[np.abs(titanic_df > 0.25), annot = True,linewidths=0.5, annot_kws = {\"size\": 11})\n",
    "\n",
    "# rotate the y-axis labels\n",
    "# set text size using 'fontsize'\n",
    "#plt.yticks(rotation = 'horizontal', fontsize = 15)\n",
    "#plt.xticks(rotation = 'vertical',fontsize = 15)\n",
    "\n",
    "# display the plot\n",
    "#plt.show()"
   ]
  },
  {
   "cell_type": "code",
   "execution_count": 85,
   "id": "bb749fd1",
   "metadata": {
    "execution": {
     "iopub.execute_input": "2023-03-10T00:50:25.934954Z",
     "iopub.status.busy": "2023-03-10T00:50:25.934543Z",
     "iopub.status.idle": "2023-03-10T00:50:25.947973Z",
     "shell.execute_reply": "2023-03-10T00:50:25.946972Z"
    },
    "papermill": {
     "duration": 0.032958,
     "end_time": "2023-03-10T00:50:25.950783",
     "exception": false,
     "start_time": "2023-03-10T00:50:25.917825",
     "status": "completed"
    },
    "tags": []
   },
   "outputs": [],
   "source": [
    "\n",
    "# developing training and validation sets\n",
    "x_train_1, x_train_2, y_train_1, y_train_2 = train_test_split(\n",
    "            x_train,\n",
    "            y_train.astype(dtype = 'int'),\n",
    "            random_state = 123,\n",
    "            test_size    = 0.25,\n",
    "            stratify     = y_train)"
   ]
  },
  {
   "cell_type": "markdown",
   "id": "c6362729",
   "metadata": {},
   "source": [
    "## Logistic Regression"
   ]
  },
  {
   "cell_type": "code",
   "execution_count": 86,
   "id": "f92853f4",
   "metadata": {},
   "outputs": [],
   "source": [
    "# from sklearn.linear_model import LogisticRegression\n",
    "# model_name = \"Logistic Regression\"\n",
    "\n",
    "\n",
    "# # INSTANTIATING a model object - CHANGE THIS AS NEEDED\n",
    "# model = LogisticRegression(C=2.5, \n",
    "#                            max_iter=200, \n",
    "#                            solver='newton-cg')\n",
    "\n",
    "\n",
    "\n",
    "# # FITTING to the training data\n",
    "# model_fit = model.fit(x_train_1, y_train_1)\n",
    "\n",
    "\n",
    "# # PREDICTING on the response variable\n",
    "# model_train_pred = model_fit.predict(x_train_1)\n",
    "# model_valid_pred = model_fit.predict(x_train_2)\n",
    "\n",
    "\n",
    "# # SCORING the results (accuracy)\n",
    "# model_train_score = model.score(x_train_1, y_train_1).round(4) # training accuracy\n",
    "# model_valid_score = model.score(x_train_2, y_train_2).round(4) # validation accuracy\n",
    "\n",
    "# # SCORING the results (auc)\n",
    "# model_train_auc = roc_auc_score(y_true  = y_train_1,\n",
    "#                                 y_score = model_train_pred).round(decimals = 4)\n",
    "\n",
    "# model_valid_auc = roc_auc_score(y_true  = y_train_2,\n",
    "#                                 y_score = model_valid_pred).round(decimals = 4)\n",
    "\n",
    "# # displaying results\n",
    "# print('Training Accuracy:  ', model_train_score)\n",
    "# print('Validation Accuracy:', model_valid_score)\n",
    "# print('Training AUC:       ', model_train_auc)\n",
    "# print('Validation AUC:     ', model_valid_auc)"
   ]
  },
  {
   "cell_type": "markdown",
   "id": "952f3b96",
   "metadata": {},
   "source": [
    "## Ridge Classifier"
   ]
  },
  {
   "cell_type": "code",
   "execution_count": 87,
   "id": "1604ea6a",
   "metadata": {},
   "outputs": [],
   "source": [
    "# from sklearn.linear_model import RidgeClassifier\n",
    "\n",
    "# model_name = \"Ridge Classifier\"\n",
    "\n",
    "# # INSTANTIATING a model object - CHANGE THIS AS NEEDED\n",
    "# model = RidgeClassifier(alpha=3.0, \n",
    "#                         normalize=True,\n",
    "#                         solver= 'cholesky')\n",
    "\n",
    "# # FITTING to the training data\n",
    "# model_fit = model.fit(x_train_1, y_train_1)\n",
    "\n",
    "# # PREDICTING on the response variable\n",
    "# model_train_pred = model_fit.predict(x_train_1)\n",
    "# model_valid_pred = model_fit.predict(x_train_2)\n",
    "\n",
    "# # SCORING the results (accuracy)\n",
    "# model_train_score = model.score(x_train_1, y_train_1).round(4) # training accuracy\n",
    "# model_valid_score = model.score(x_train_2, y_train_2).round(4) # validation accuracy\n",
    "\n",
    "# # SCORING the results (auc)\n",
    "# model_train_auc = roc_auc_score(y_true  = y_train_1,\n",
    "#                                 y_score = model_train_pred).round(decimals = 4)\n",
    "\n",
    "# model_valid_auc = roc_auc_score(y_true  = y_train_2,\n",
    "#                                 y_score = model_valid_pred).round(decimals = 4)\n",
    "\n",
    "# # displaying results\n",
    "# print('Training Accuracy:  ', model_train_score)\n",
    "# print('Validation Accuracy:', model_valid_score)\n",
    "# print('Training AUC:       ', model_train_auc)\n",
    "# print('Validation AUC:     ', model_valid_auc)"
   ]
  },
  {
   "cell_type": "markdown",
   "id": "c85dc7f1",
   "metadata": {},
   "source": [
    "## KNeighbors best"
   ]
  },
  {
   "cell_type": "code",
   "execution_count": 88,
   "id": "b8c1de60",
   "metadata": {},
   "outputs": [],
   "source": [
    "# from sklearn.neighbors import KNeighborsClassifier\n",
    "\n",
    "# # picking a model name\n",
    "# model_name = \"KNeighbors Classifier\"\n",
    "\n",
    "\n",
    "# # INSTANTIATING a model object - CHANGE THIS AS NEEDED\n",
    "# model = KNeighborsClassifier(n_neighbors = 25,\n",
    "#                              weights     = 'uniform',\n",
    "#                              algorithm   = 'auto', \n",
    "#                              leaf_size   = 3)\n",
    "\n",
    "\n",
    "# # FITTING to the training data\n",
    "# model_fit = model.fit(x_train_1, y_train_1)\n",
    "\n",
    "\n",
    "# # PREDICTING on the response variable\n",
    "# model_train_pred = model_fit.predict(x_train_1)\n",
    "# model_valid_pred = model_fit.predict(x_train_2)\n",
    "\n",
    "\n",
    "# # SCORING the results (accuracy)\n",
    "# model_train_score = model.score(x_train_1, y_train_1).round(4) # training accuracy\n",
    "# model_valid_score = model.score(x_train_2, y_train_2).round(4) # validation accuracy\n",
    "\n",
    "# # SCORING the results (auc)\n",
    "# model_train_auc = roc_auc_score(y_true  = y_train_1,\n",
    "#                                 y_score = model_train_pred).round(decimals = 4)\n",
    "\n",
    "# model_valid_auc = roc_auc_score(y_true  = y_train_2,\n",
    "#                                 y_score = model_valid_pred).round(decimals = 4)\n",
    "\n",
    "# # displaying results\n",
    "# print('Training Accuracy:  ', model_train_score)\n",
    "# print('Validation Accuracy:', model_valid_score)\n",
    "# print('Training AUC:       ', model_train_auc)\n",
    "# print('Validation AUC:     ', model_valid_auc)"
   ]
  },
  {
   "cell_type": "markdown",
   "id": "fcf05b7a",
   "metadata": {},
   "source": [
    "## Gradient Boosting Classifier"
   ]
  },
  {
   "cell_type": "code",
   "execution_count": 89,
   "id": "299e6a37",
   "metadata": {
    "papermill": {
     "duration": 0.01521,
     "end_time": "2023-03-10T00:50:25.981622",
     "exception": false,
     "start_time": "2023-03-10T00:50:25.966412",
     "status": "completed"
    },
    "tags": []
   },
   "outputs": [],
   "source": [
    "# from sklearn.ensemble import GradientBoostingClassifier\n",
    "# # picking a model name\n",
    "# model_name = \"Gradient Boosting Classifier\"\n",
    "\n",
    "\n",
    "# # INSTANTIATING a model object - CHANGE THIS AS NEEDED\n",
    "# model = GradientBoostingClassifier(loss             = 'exponential',   \n",
    "#                                    learning_rate    = 0.3, \n",
    "#                                    n_estimators     = 100, \n",
    "#                                    max_depth        = 3,\n",
    "#                                    min_samples_leaf = 10,\n",
    "#                                    random_state     = 219)\n",
    "\n",
    "\n",
    "# # FITTING to the training data\n",
    "# model_fit = model.fit(x_train_1, y_train_1)\n",
    "\n",
    "\n",
    "# # PREDICTING on the response variable\n",
    "# model_train_pred = model_fit.predict(x_train_1)\n",
    "# model_valid_pred = model_fit.predict(x_train_2)\n",
    "\n",
    "\n",
    "# # SCORING the results (accuracy)\n",
    "# model_train_score = model.score(x_train_1, y_train_1).round(4) # training accuracy\n",
    "# model_valid_score = model.score(x_train_2, y_train_2).round(4) # validation accuracy\n",
    "\n",
    "# # SCORING the results (auc)\n",
    "# model_train_auc = roc_auc_score(y_true  = y_train_1,\n",
    "#                                 y_score = model_train_pred).round(decimals = 4)\n",
    "\n",
    "# model_valid_auc = roc_auc_score(y_true  = y_train_2,\n",
    "#                                 y_score = model_valid_pred).round(decimals = 4)\n",
    "\n",
    "# # displaying results\n",
    "# print('Training Accuracy:  ', model_train_score)\n",
    "# print('Validation Accuracy:', model_valid_score)\n",
    "# print('Training AUC:       ', model_train_auc)\n",
    "# print('Validation AUC:     ', model_valid_auc)\n",
    "\n",
    "#Pre\n",
    "#learning_rate    = 0.1,  n_estimators     = 300, max_depth        = 6, min_samples_leaf = 4, random_state     = 219)\n",
    "# Training Accuracy:   0.9261\n",
    "# Validation Accuracy: 0.8045\n",
    "# Training AUC:        0.9258\n",
    "# Validation AUC:      0.8044\n",
    "\n",
    "\n",
    "#Tuned\n",
    "#loss  = 'exponential',   learning_rate    = 0.3, n_estimators     = 100, max_depth        = 3,min_samples_leaf = 10,random_state     = 219\n",
    "# Training Accuracy:   0.8296\n",
    "# Validation Accuracy: 0.804\n",
    "# Training AUC:        0.8294\n",
    "# Validation AUC:      0.8037"
   ]
  },
  {
   "cell_type": "markdown",
   "id": "0518a82e",
   "metadata": {
    "papermill": {
     "duration": 0.014948,
     "end_time": "2023-03-10T00:50:26.011939",
     "exception": false,
     "start_time": "2023-03-10T00:50:25.996991",
     "status": "completed"
    },
    "tags": []
   },
   "source": [
    "## Histogram Gradient Boosting Classifier\n",
    "\n",
    "After testing 14 different models in the basic form and after tuning, the model with the best score was the Gradient Boosting model.  This model outperformed the other models in training AUC but had a small variation between the training and validation scores.\n",
    "\n",
    "When submitting the score to Kaggle, the outcome was positive but the tuning wasn't able to overcome a score of 0.7850 even after hyper tuning. Ultimately, the team considered an alternative version of this model called Histogram-based Gradient Boosting (Machine Learning Mastery, 2020).  The final result was a model with an accuracy of 81%, having a moderated gap between the train and the validation of just 5%. In other words, it was a model that performed well and was stable enough for us to keep testing."
   ]
  },
  {
   "cell_type": "code",
   "execution_count": 90,
   "id": "657aa98e",
   "metadata": {
    "execution": {
     "iopub.execute_input": "2023-03-10T00:50:26.044596Z",
     "iopub.status.busy": "2023-03-10T00:50:26.044167Z",
     "iopub.status.idle": "2023-03-10T00:50:26.983053Z",
     "shell.execute_reply": "2023-03-10T00:50:26.981906Z"
    },
    "papermill": {
     "duration": 0.958426,
     "end_time": "2023-03-10T00:50:26.985667",
     "exception": false,
     "start_time": "2023-03-10T00:50:26.027241",
     "status": "completed"
    },
    "tags": []
   },
   "outputs": [
    {
     "name": "stdout",
     "output_type": "stream",
     "text": [
      "Training Accuracy:   0.865\n",
      "Validation Accuracy: 0.8036\n",
      "Training AUC:        0.8648\n",
      "Validation AUC:      0.8033\n"
     ]
    }
   ],
   "source": [
    "from sklearn.ensemble import HistGradientBoostingClassifier\n",
    "# # picking a model name\n",
    "model_name = \"Histogram Gradient Boosting Classifier\"\n",
    "\n",
    "\n",
    "# # INSTANTIATING a model object - CHANGE THIS AS NEEDED\n",
    "model = HistGradientBoostingClassifier(learning_rate=0.11,\n",
    "                                       max_depth=18,\n",
    "                                       min_samples_leaf=30,\n",
    "                                       max_leaf_nodes=31,\n",
    "                                       loss='auto',\n",
    "                                       max_iter=100,\n",
    "                                       n_iter_no_change=200,\n",
    "                                       max_bins=255,random_state = 219)  \n",
    "\n",
    "#learning_rate': 0.1, 'max_bins': 255, 'max_depth': 18, 'max_iter': 100, 'max_leaf_nodes': 31, 'min_samples_leaf': 30}                                     \n",
    "#loss='auto',learning_rate=0.1, max_iter=100, max_leaf_nodes=31, max_depth=15, min_samples_leaf=20,  max_bins=255, warm_start=False,  scoring='loss', verbose=0, random_state = 219\n",
    "\n",
    "# FITTING to the training data\n",
    "model_fit = model.fit(x_train_1, y_train_1)\n",
    "\n",
    "\n",
    "# PREDICTING on the response variable\n",
    "model_train_pred = model_fit.predict(x_train_1)\n",
    "model_valid_pred = model_fit.predict(x_train_2)\n",
    "\n",
    "\n",
    "# SCORING the results (accuracy)\n",
    "model_train_score = model.score(x_train_1, y_train_1).round(4) # training accuracy\n",
    "model_valid_score = model.score(x_train_2, y_train_2).round(4) # validation accuracy\n",
    "\n",
    "# SCORING the results (auc)\n",
    "model_train_auc = roc_auc_score(y_true  = y_train_1,\n",
    "                                y_score = model_train_pred).round(decimals = 4)\n",
    "\n",
    "model_valid_auc = roc_auc_score(y_true  = y_train_2,\n",
    "                                y_score = model_valid_pred).round(decimals = 4)\n",
    "\n",
    "# displaying results\n",
    "print('Training Accuracy:  ', model_train_score)\n",
    "print('Validation Accuracy:', model_valid_score)\n",
    "print('Training AUC:       ', model_train_auc)\n",
    "print('Validation AUC:     ', model_valid_auc)"
   ]
  },
  {
   "cell_type": "markdown",
   "id": "5aa67417",
   "metadata": {
    "papermill": {
     "duration": 0.014987,
     "end_time": "2023-03-10T00:50:27.017117",
     "exception": false,
     "start_time": "2023-03-10T00:50:27.002130",
     "status": "completed"
    },
    "tags": []
   },
   "source": [
    "<h2>Hyperparameter HistGradientBoostingClassifier</h2>"
   ]
  },
  {
   "cell_type": "code",
   "execution_count": 91,
   "id": "ff10539b",
   "metadata": {
    "execution": {
     "iopub.execute_input": "2023-03-10T00:50:27.050042Z",
     "iopub.status.busy": "2023-03-10T00:50:27.049640Z",
     "iopub.status.idle": "2023-03-10T00:50:27.055981Z",
     "shell.execute_reply": "2023-03-10T00:50:27.054708Z"
    },
    "papermill": {
     "duration": 0.02606,
     "end_time": "2023-03-10T00:50:27.058722",
     "exception": false,
     "start_time": "2023-03-10T00:50:27.032662",
     "status": "completed"
    },
    "tags": []
   },
   "outputs": [],
   "source": [
    "# from sklearn.ensemble import HistGradientBoostingClassifier\n",
    "# from sklearn.model_selection import GridSearchCV\n",
    "# from sklearn.metrics import roc_auc_score\n",
    "\n",
    "# # Define your parameter grid\n",
    "# param_grid = {\n",
    "#     'learning_rate': [0.1, 0.11, 0.12],\n",
    "#     'max_depth': [15, 18, 20],\n",
    "#     'min_samples_leaf': [10, 20, 30],\n",
    "#     'max_leaf_nodes': [31, 40, 50],\n",
    "#     'max_iter': [100, 200, 300],\n",
    "#     'max_bins': [128, 255, 512]\n",
    "# }\n",
    "\n",
    "# # INSTANTIATING a model object\n",
    "# model = HistGradientBoostingClassifier(loss='auto', random_state=219)\n",
    "\n",
    "# # Use GridSearchCV to find the best hyperparameters\n",
    "# grid_search = GridSearchCV(model, param_grid=param_grid, cv=5)\n",
    "# grid_search.fit(x_train_1, y_train_1)\n",
    "\n",
    "# # FITTING to the training data with the best hyperparameters\n",
    "# model_fit = grid_search.best_estimator_.fit(x_train_1, y_train_1)\n",
    "\n",
    "# # PREDICTING on the response variable\n",
    "# model_train_pred = model_fit.predict(x_train_1)\n",
    "# model_valid_pred = model_fit.predict(x_train_2)\n",
    "\n",
    "# # SCORING the results (accuracy)\n",
    "# model_train_score = model_fit.score(x_train_1, y_train_1).round(4) # training accuracy\n",
    "# model_valid_score = model_fit.score(x_train_2, y_train_2).round(4) # validation accuracy\n",
    "\n",
    "# # SCORING the results (auc)\n",
    "# model_train_auc = roc_auc_score(y_true=y_train_1, y_score=model_train_pred).round(decimals=4)\n",
    "# model_valid_auc = roc_auc_score(y_true=y_train_2, y_score=model_valid_pred).round(decimals=4)\n",
    "\n",
    "# # displaying results\n",
    "# print('Training Accuracy:  ', model_train_score)\n",
    "# print('Validation Accuracy:', model_valid_score)\n",
    "# print('Training AUC:       ', model_train_auc)\n",
    "# print('Validation AUC:     ', model_valid_auc)\n",
    "# print(\"Best hyperparameters:\", grid_search.best_params_)\n",
    "# print(\"Best score:\", grid_search.best_score_)"
   ]
  },
  {
   "cell_type": "markdown",
   "id": "250628fd",
   "metadata": {
    "papermill": {
     "duration": 0.015384,
     "end_time": "2023-03-10T00:50:27.089645",
     "exception": false,
     "start_time": "2023-03-10T00:50:27.074261",
     "status": "completed"
    },
    "tags": []
   },
   "source": []
  },
  {
   "cell_type": "code",
   "execution_count": 92,
   "id": "e9b91df1",
   "metadata": {
    "execution": {
     "iopub.execute_input": "2023-03-10T00:50:27.122747Z",
     "iopub.status.busy": "2023-03-10T00:50:27.122048Z",
     "iopub.status.idle": "2023-03-10T00:50:27.158235Z",
     "shell.execute_reply": "2023-03-10T00:50:27.157107Z"
    },
    "papermill": {
     "duration": 0.055771,
     "end_time": "2023-03-10T00:50:27.160866",
     "exception": false,
     "start_time": "2023-03-10T00:50:27.105095",
     "status": "completed"
    },
    "tags": []
   },
   "outputs": [],
   "source": [
    "# setting x_test\n",
    "x_test  = titanic_df[ ['CryoSleep_True','Spa','RoomService','VRDeck','ShoppingMall','FoodCourt','HomePlanet_Europa','Deck_B','Deck_C','Side_S','Destination_TRAPPIST-1e','Deck_E','Deck_F','Age','VIP_True','Deck_D','HomePlanet_Mars','Deck_G','Deck_T','Destination_PSO J318.5-22']][ titanic_df['set'] == 'Testing' ]\n",
    "\n",
    "# PREDICTING on new data\n",
    "model_pred = model.predict(x_test)\n",
    "\n",
    "# checking results\n",
    "# model_pred"
   ]
  },
  {
   "cell_type": "markdown",
   "id": "150b1ed3",
   "metadata": {
    "papermill": {
     "duration": 0.015394,
     "end_time": "2023-03-10T00:50:27.193335",
     "exception": false,
     "start_time": "2023-03-10T00:50:27.177941",
     "status": "completed"
    },
    "tags": []
   },
   "source": [
    "<hr style=\"height:.9px;border:none;color:#333;background-color:#333;\" /><br>\n",
    "From here, we simply create a DataFrame with the original passenger ids (&nbsp;<em>PassengerId</em>&nbsp;) and the predicted values from the model (&nbsp;<em>Transported</em>&nbsp;).<br>"
   ]
  },
  {
   "cell_type": "code",
   "execution_count": 93,
   "id": "bc618102",
   "metadata": {
    "execution": {
     "iopub.execute_input": "2023-03-10T00:50:27.226568Z",
     "iopub.status.busy": "2023-03-10T00:50:27.226125Z",
     "iopub.status.idle": "2023-03-10T00:50:27.239257Z",
     "shell.execute_reply": "2023-03-10T00:50:27.238024Z"
    },
    "papermill": {
     "duration": 0.033107,
     "end_time": "2023-03-10T00:50:27.242106",
     "exception": false,
     "start_time": "2023-03-10T00:50:27.208999",
     "status": "completed"
    },
    "tags": []
   },
   "outputs": [],
   "source": [
    "# saving predictions with their respective Ids from the test set\n",
    "predictions = pd.DataFrame(data = { 'PassengerId' : data_test['PassengerId'],\n",
    "                                    'Transported' : model_pred.astype(bool)               } )\n",
    "\n",
    "# checking the results\n",
    "# predictions.head(n = 5)"
   ]
  },
  {
   "cell_type": "markdown",
   "id": "20c75021",
   "metadata": {
    "papermill": {
     "duration": 0.015492,
     "end_time": "2023-03-10T00:50:27.273900",
     "exception": false,
     "start_time": "2023-03-10T00:50:27.258408",
     "status": "completed"
    },
    "tags": []
   },
   "source": [
    "<hr style=\"height:.9px;border:none;color:#333;background-color:#333;\" /><br>\n",
    "Finally, we save the DataFrame as a .csv file and we're ready to submit. This file will be available in the <em>/kaggle/working</em> directory."
   ]
  },
  {
   "cell_type": "code",
   "execution_count": 94,
   "id": "4014e123",
   "metadata": {
    "execution": {
     "iopub.execute_input": "2023-03-10T00:50:27.307632Z",
     "iopub.status.busy": "2023-03-10T00:50:27.307168Z",
     "iopub.status.idle": "2023-03-10T00:50:27.322827Z",
     "shell.execute_reply": "2023-03-10T00:50:27.321741Z"
    },
    "papermill": {
     "duration": 0.035897,
     "end_time": "2023-03-10T00:50:27.325517",
     "exception": false,
     "start_time": "2023-03-10T00:50:27.289620",
     "status": "completed"
    },
    "tags": []
   },
   "outputs": [],
   "source": [
    "# sending predictions to .csv file\n",
    "predictions.to_csv(path_or_buf = 'HGBclassifier80.csv',\n",
    "                   index = False)"
   ]
  },
  {
   "cell_type": "markdown",
   "id": "9d865f60",
   "metadata": {
    "papermill": {
     "duration": 0.015529,
     "end_time": "2023-03-10T00:50:27.356828",
     "exception": false,
     "start_time": "2023-03-10T00:50:27.341299",
     "status": "completed"
    },
    "tags": []
   },
   "source": [
    "<br>"
   ]
  },
  {
   "cell_type": "markdown",
   "id": "aa8ebc56",
   "metadata": {
    "papermill": {
     "duration": 0.015341,
     "end_time": "2023-03-10T00:50:27.387920",
     "exception": false,
     "start_time": "2023-03-10T00:50:27.372579",
     "status": "completed"
    },
    "tags": []
   },
   "source": [
    "<h1>Conclusion </h1>\n",
    "\n",
    "The yield shows the performance metrics of a HistGradientBoostingClassifier model. The model has 100 trees, each with a maximum depth of 18, and uses a learning rate of 0.11 to avoid overfitting. The model has an accuracy of 0.832 and a recall of 0.879 on the training data, and an accuracy of 0.848 and a recall of 0.892 on the validation data.\n",
    "\n",
    "Overall, the model is performing very well on both the training and validation data, with precision, accuracy, and recall scores all above 0.8. We can say that the model's performance is consistent across both the training and validation data sets and it meets the requirements of the activity."
   ]
  },
  {
   "cell_type": "code",
   "execution_count": 95,
   "id": "2a14056a",
   "metadata": {},
   "outputs": [
    {
     "name": "stdout",
     "output_type": "stream",
     "text": [
      "Model: HistGradient Boosting\n",
      "Maximum Iterations (Trees): 100\n",
      "Tree Depth: 18\n",
      "Learning Rate: 0.11\n",
      "Number of Bins: 255\n",
      "L2 Regularization: 0.0\n",
      "\n",
      "Training Metrics:\n",
      "- Accuracy: 0.8496491429886115\n",
      "- Precision: 0.8321436296776985\n",
      "- Recall: 0.8787117405207857\n",
      "\n",
      "Validation Metrics:\n",
      "- Accuracy: 0.8650099708544255\n",
      "- Precision: 0.8475556841191785\n",
      "- Recall: 0.8924763935424916\n"
     ]
    }
   ],
   "source": [
    "import statsmodels\n",
    "import statsmodels.api as sm\n",
    "# assuming your model fit object is named `model_fit`\n",
    "# assuming your model fit object is named `model_fit`\n",
    "from sklearn.metrics import mean_squared_error, r2_score\n",
    "# assuming your model fit object is named `model_fit`\n",
    "from sklearn.metrics import accuracy_score, precision_score, recall_score\n",
    "\n",
    "print(\"Model: HistGradient Boosting\")\n",
    "print(f\"Maximum Iterations (Trees): {model_fit.max_iter}\")\n",
    "print(f\"Tree Depth: {model_fit.max_depth}\")\n",
    "print(f\"Learning Rate: {model_fit.learning_rate}\")\n",
    "print(f\"Number of Bins: {model_fit.max_bins}\")\n",
    "print(f\"L2 Regularization: {model_fit.l2_regularization}\\n\")\n",
    "\n",
    "print(\"Training Metrics:\")\n",
    "print(f\"- Accuracy: {accuracy_score(y_train, model_fit.predict(x_train))}\")\n",
    "print(f\"- Precision: {precision_score(y_train, model_fit.predict(x_train))}\")\n",
    "print(f\"- Recall: {recall_score(y_train, model_fit.predict(x_train))}\\n\")\n",
    "\n",
    "print(\"Validation Metrics:\")\n",
    "print(f\"- Accuracy: {accuracy_score(y_train_1, model_fit.predict(x_train_1))}\")\n",
    "print(f\"- Precision: {precision_score(y_train_1, model_fit.predict(x_train_1))}\")\n",
    "print(f\"- Recall: {recall_score(y_train_1, model_fit.predict(x_train_1))}\")\n",
    "\n",
    "\n"
   ]
  },
  {
   "cell_type": "markdown",
   "id": "cb7c46fe",
   "metadata": {},
   "source": []
  },
  {
   "cell_type": "code",
   "execution_count": 96,
   "id": "723dde30",
   "metadata": {},
   "outputs": [],
   "source": [
    "from sklearn.metrics import classification_report\n",
    "#print(\"Accuracy : \", accuracy_score(y_train_2,model_valid_pred))\n",
    "# print('Classification Report : \\n', classification_report(y_train_2,model_valid_pred))"
   ]
  },
  {
   "cell_type": "markdown",
   "id": "402a95cc",
   "metadata": {},
   "source": [
    "The accuracy of the model is 80.4%. The classification report provides metrics such as precision, recall, and F1-score for both classes. The macro-average and weighted average of these metrics are also provided. By examining the classification report's metrics, we can identify areas where the model needs improvement but additional time would be required to explore another approach. ultimately, The accuracy of a model is often used to evaluate its performance, but it may not be the best indicator."
   ]
  },
  {
   "cell_type": "code",
   "execution_count": 97,
   "id": "2cefee4d",
   "metadata": {},
   "outputs": [
    {
     "name": "stdout",
     "output_type": "stream",
     "text": [
      "0.8033368458025991\n"
     ]
    },
    {
     "data": {
      "image/png": "[encoded data removed]",
      "text/plain": [
       "<Figure size 700x500 with 1 Axes>"
      ]
     },
     "metadata": {},
     "output_type": "display_data"
    }
   ],
   "source": [
    "fpr, tpr, threshold = roc_curve(y_train_2,model_valid_pred)\n",
    "plt.figure(figsize=(7,5))\n",
    "# plot the ROC curve\n",
    "\n",
    "plt.plot(fpr, tpr)\n",
    "\n",
    "\n",
    "# set limits for x and y axes\n",
    "plt.xlim([0.0, 1.0])\n",
    "plt.ylim([0.0, 1.0])\n",
    "\n",
    "# plot the straight line showing worst prediction for the model\n",
    "plt.plot([0, 1], [0, 1],'r--')\n",
    "print(roc_auc_score(y_train_2,model_valid_pred))\n",
    "plt.show()"
   ]
  },
  {
   "cell_type": "code",
   "execution_count": 98,
   "id": "38a06532",
   "metadata": {},
   "outputs": [],
   "source": [
    "cm = confusion_matrix(y_train_2,model_valid_pred)\n",
    "# cm"
   ]
  },
  {
   "cell_type": "markdown",
   "id": "9bf45e55",
   "metadata": {},
   "source": [
    "The confusion matrix provides insight into the model's performance by comparing actual and predicted transported passengers. In this case, the model correctly identified 917 passengers as transported and 830 as not transported, but misclassified 178 passengers as transported when they were actually not transported and 249 passengers as not transported when they were actually transported. Based on this, the model's performance can be evaluated using metrics additional to accuracy, such as precision and recall. In general, the split between passengers transported and not transported is divided between 52% transported and 48 not transported."
   ]
  },
  {
   "cell_type": "code",
   "execution_count": 99,
   "id": "802e6685",
   "metadata": {},
   "outputs": [
    {
     "data": {
      "image/png": "[encoded data removed]",
      "text/plain": [
       "<Figure size 640x480 with 2 Axes>"
      ]
     },
     "metadata": {},
     "output_type": "display_data"
    }
   ],
   "source": [
    "# print confusion matrix\n",
    "# print('Confusion matrix:\\n', cm)\n",
    "\n",
    "sns.heatmap(cm, annot=True, cmap=\"Blues\", fmt=\"d\")\n",
    "\n",
    "plt.title(\"Confusion Matrix for Logistics Regression Model\")\n",
    "plt.xlabel(\"Predicted Labels\")\n",
    "plt.ylabel(\"True Labels\")\n",
    "plt.show()"
   ]
  },
  {
   "cell_type": "code",
   "execution_count": 100,
   "id": "cc30f067",
   "metadata": {},
   "outputs": [],
   "source": [
    "TN = cm[0][0]\n",
    "FP = cm[0][1]\n",
    "FN = cm[1][0]\n",
    "TP = cm[1][1]"
   ]
  },
  {
   "cell_type": "code",
   "execution_count": 101,
   "id": "1b285826",
   "metadata": {},
   "outputs": [],
   "source": [
    "# RECALL for '0' class 'TNR'\n",
    "specificity = TN/(TN+FP)\n",
    "# specificity"
   ]
  },
  {
   "cell_type": "markdown",
   "id": "2dbe7233",
   "metadata": {},
   "source": [
    "The specificity is a measure of how well a model can correctly identify the negative samples. In this case, the specificity for the '0' class is 0.769, indicating that the model can accurately classify 77% of the negative samples."
   ]
  },
  {
   "cell_type": "code",
   "execution_count": 102,
   "id": "1f86f982",
   "metadata": {},
   "outputs": [],
   "source": [
    "# RECALL for '1' class 'TPR'\n",
    "sensitivity = TP/(FN+TP)\n",
    "# sensitivity"
   ]
  },
  {
   "cell_type": "markdown",
   "id": "ed386edf",
   "metadata": {},
   "source": [
    "Sensitivity, also known as true positive rate (TPR), is the proportion of actual positive cases that were correctly identified by the model. In this case, it represents the proportion of passengers who were correctly predicted to be transported on a spaceflight out of all the passengers who were actually transported. A value of 0.837 indicates that the model correctly identified 83.7% of the passengers who were actually transported."
   ]
  },
  {
   "cell_type": "markdown",
   "id": "d9af5332",
   "metadata": {},
   "source": [
    "**Kappa score:** It is a measure of inter-rater reliability. For logistic regression, the actual and predicted values of the target variable are the raters."
   ]
  },
  {
   "cell_type": "markdown",
   "id": "622276e3",
   "metadata": {},
   "source": [
    "Cohen suggested the Kappa result be interpreted as follows: values ≤ 0 as indicating no agreement and 0.01–0.20 as none to slight, 0.21–0.40 as fair, 0.41– 0.60 as moderate, 0.61–0.80 as substantial, and 0.81–1.00 as almost perfect agreement."
   ]
  },
  {
   "cell_type": "code",
   "execution_count": 103,
   "id": "53e98b46",
   "metadata": {},
   "outputs": [],
   "source": [
    "from sklearn.metrics import cohen_kappa_score\n",
    "# compute the kappa value\n",
    "kappa = cohen_kappa_score(y_train_2,model_valid_pred)\n",
    "\n",
    "# print the kappa value\n",
    "# print('kappa value:',kappa)"
   ]
  },
  {
   "cell_type": "markdown",
   "id": "11bd02b7",
   "metadata": {},
   "source": [
    "The computed kappa value of 0.606 indicates substantial agreement between the predicted and actual target values beyond what would be expected by chance. Kappa is a measure of inter-rater agreement that takes into account the possibility of agreement occurring by chance alone. A value of 1 indicates perfect agreement, while a value of 0 indicates agreement no better than chance. Therefore, a kappa value of 0.606 is considered to be a good measure of agreement between the predicted and actual target values."
   ]
  },
  {
   "cell_type": "markdown",
   "id": "968ceae5",
   "metadata": {},
   "source": [
    "**The model performed well with both training and validation accuracy above 0.80. The specificity of 0.77 and sensitivity of 0.84 suggest that the model is able to predict negative and positive cases with moderate accuracy. The kappa score of 0.60 indicates substantial agreement between the predicted and actual classes. Overall, the model seems to be performing well, but further analysis may be necessary to improve its predictive power.**"
   ]
  },
  {
   "cell_type": "markdown",
   "id": "929605ef",
   "metadata": {
    "papermill": {
     "duration": 0.015323,
     "end_time": "2023-03-10T00:50:27.418923",
     "exception": false,
     "start_time": "2023-03-10T00:50:27.403600",
     "status": "completed"
    },
    "tags": []
   },
   "source": [
    "<h1>Bibliography </h1>\n",
    "\n",
    "7 ways to handle missing values in machine learning. (n.d.). Toward Data Science. Retrieved March 11, 2023, from https://towardsdatascience.com/7-ways-to-handle-missing-values-in-machine-learning-1a6326adf79e\n",
    "\n",
    "Preprocessing - Categorical Data. (n.d.). W3Schools. Retrieved March 11, 2023, from https://www.w3schools.com/python/python_ml_preprocessing.asp\n",
    "\n",
    "Brownlee, J. (2018, February 6). Histogram-Based Gradient Boosting Ensembles in Python. Machine Learning Mastery. https://machinelearningmastery.com/histogram-based-gradient-boosting-ensembles/\n",
    "\n",
    "NIST/SEMATECH e-Handbook of Statistical Methods. (n.d.). Exploratory Data Analysis (EDA). National Institute of Standards and Technology. Retrieved March 11, 2023, from https://www.itl.nist.gov/div898/handbook/eda/section1/eda11.htm\n"
   ]
  }
 ],
 "metadata": {
  "kernelspec": {
   "display_name": "Python 3 (ipykernel)",
   "language": "python",
   "name": "python3"
  },
  "language_info": {
   "codemirror_mode": {
    "name": "ipython",
    "version": 3
   },
   "file_extension": ".py",
   "mimetype": "text/x-python",
   "name": "python",
   "nbconvert_exporter": "python",
   "pygments_lexer": "ipython3",
   "version": "3.9.12"
  },
  "papermill": {
   "default_parameters": {},
   "duration": 16.406818,
   "end_time": "2023-03-10T00:50:28.289517",
   "environment_variables": {},
   "exception": null,
   "input_path": "__notebook__.ipynb",
   "output_path": "__notebook__.ipynb",
   "parameters": {},
   "start_time": "2023-03-10T00:50:11.882699",
   "version": "2.4.0"
  },
  "toc": {
   "base_numbering": 1,
   "nav_menu": {},
   "number_sections": true,
   "sideBar": true,
   "skip_h1_title": false,
   "title_cell": "Table of Contents",
   "title_sidebar": "Contents",
   "toc_cell": false,
   "toc_position": {},
   "toc_section_display": true,
   "toc_window_display": false
  },
  "varInspector": {
   "cols": {
    "lenName": 16,
    "lenType": 16,
    "lenVar": 40
   },
   "kernels_config": {
    "python": {
     "delete_cmd_postfix": "",
     "delete_cmd_prefix": "del ",
     "library": "var_list.py",
     "varRefreshCmd": "print(var_dic_list())"
    },
    "r": {
     "delete_cmd_postfix": ") ",
     "delete_cmd_prefix": "rm(",
     "library": "var_list.r",
     "varRefreshCmd": "cat(var_dic_list()) "
    }
   },
   "types_to_exclude": [
    "module",
    "function",
    "builtin_function_or_method",
    "instance",
    "_Feature"
   ],
   "window_display": false
  }
 },
 "nbformat": 4,
 "nbformat_minor": 5
}
